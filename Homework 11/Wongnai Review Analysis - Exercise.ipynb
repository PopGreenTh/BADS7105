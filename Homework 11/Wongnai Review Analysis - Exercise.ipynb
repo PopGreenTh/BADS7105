{
 "cells": [
  {
   "cell_type": "markdown",
   "metadata": {
    "id": "kaAZjbXqBKxt"
   },
   "source": [
    "## **Load libraries and data**"
   ]
  },
  {
   "cell_type": "code",
   "execution_count": 1,
   "metadata": {
    "colab": {
     "base_uri": "https://localhost:8080/"
    },
    "executionInfo": {
     "elapsed": 11410,
     "status": "ok",
     "timestamp": 1605437566064,
     "user": {
      "displayName": "Thanachart Ritbumroong",
      "photoUrl": "",
      "userId": "18414212507793256437"
     },
     "user_tz": -420
    },
    "id": "_pJtf54KNodh",
    "outputId": "4d080994-5071-4f79-b76d-177fc7257071"
   },
   "outputs": [
    {
     "output_type": "stream",
     "name": "stdout",
     "text": [
      "Requirement already satisfied: pythainlp in d:\\py\\envs\\7105\\lib\\site-packages (2.3.1)\n",
      "Requirement already satisfied: requests>=2.22.0 in d:\\py\\envs\\7105\\lib\\site-packages (from pythainlp) (2.25.1)\n",
      "Requirement already satisfied: tinydb>=3.0 in d:\\py\\envs\\7105\\lib\\site-packages (from pythainlp) (4.4.0)\n",
      "Requirement already satisfied: python-crfsuite>=0.9.6 in d:\\py\\envs\\7105\\lib\\site-packages (from pythainlp) (0.9.7)\n",
      "Requirement already satisfied: idna<3,>=2.5 in d:\\py\\envs\\7105\\lib\\site-packages (from requests>=2.22.0->pythainlp) (2.10)\n",
      "Requirement already satisfied: urllib3<1.27,>=1.21.1 in d:\\py\\envs\\7105\\lib\\site-packages (from requests>=2.22.0->pythainlp) (1.26.4)\n",
      "Requirement already satisfied: certifi>=2017.4.17 in d:\\py\\envs\\7105\\lib\\site-packages (from requests>=2.22.0->pythainlp) (2020.12.5)\n",
      "Requirement already satisfied: chardet<5,>=3.0.2 in d:\\py\\envs\\7105\\lib\\site-packages (from requests>=2.22.0->pythainlp) (4.0.0)\n",
      "Requirement already satisfied: pyLDAvis in d:\\py\\envs\\7105\\lib\\site-packages (3.3.1)\n",
      "Requirement already satisfied: scikit-learn in d:\\py\\envs\\7105\\lib\\site-packages (from pyLDAvis) (0.24.2)\n",
      "Requirement already satisfied: sklearn in d:\\py\\envs\\7105\\lib\\site-packages (from pyLDAvis) (0.0)\n",
      "Requirement already satisfied: pandas>=1.2.0 in d:\\py\\envs\\7105\\lib\\site-packages (from pyLDAvis) (1.2.4)\n",
      "Requirement already satisfied: gensim in d:\\py\\envs\\7105\\lib\\site-packages (from pyLDAvis) (4.0.1)\n",
      "Requirement already satisfied: funcy in d:\\py\\envs\\7105\\lib\\site-packages (from pyLDAvis) (1.16)\n",
      "Requirement already satisfied: future in d:\\py\\envs\\7105\\lib\\site-packages (from pyLDAvis) (0.18.2)\n",
      "Requirement already satisfied: setuptools in d:\\py\\envs\\7105\\lib\\site-packages (from pyLDAvis) (52.0.0.post20210125)\n",
      "Requirement already satisfied: scipy in d:\\py\\envs\\7105\\lib\\site-packages (from pyLDAvis) (1.6.3)\n",
      "Requirement already satisfied: numexpr in d:\\py\\envs\\7105\\lib\\site-packages (from pyLDAvis) (2.7.3)\n",
      "Requirement already satisfied: jinja2 in d:\\py\\envs\\7105\\lib\\site-packages (from pyLDAvis) (3.0.1)\n",
      "Requirement already satisfied: joblib in d:\\py\\envs\\7105\\lib\\site-packages (from pyLDAvis) (1.0.1)\n",
      "Requirement already satisfied: numpy>=1.20.0 in d:\\py\\envs\\7105\\lib\\site-packages (from pyLDAvis) (1.20.3)\n",
      "Requirement already satisfied: python-dateutil>=2.7.3 in d:\\py\\envs\\7105\\lib\\site-packages (from pandas>=1.2.0->pyLDAvis) (2.8.1)\n",
      "Requirement already satisfied: pytz>=2017.3 in d:\\py\\envs\\7105\\lib\\site-packages (from pandas>=1.2.0->pyLDAvis) (2021.1)\n",
      "Requirement already satisfied: six>=1.5 in d:\\py\\envs\\7105\\lib\\site-packages (from python-dateutil>=2.7.3->pandas>=1.2.0->pyLDAvis) (1.15.0)\n",
      "Requirement already satisfied: Cython==0.29.21 in d:\\py\\envs\\7105\\lib\\site-packages (from gensim->pyLDAvis) (0.29.21)\n",
      "Requirement already satisfied: smart-open>=1.8.1 in d:\\py\\envs\\7105\\lib\\site-packages (from gensim->pyLDAvis) (5.1.0)\n",
      "Requirement already satisfied: MarkupSafe>=2.0 in d:\\py\\envs\\7105\\lib\\site-packages (from jinja2->pyLDAvis) (2.0.1)\n",
      "Requirement already satisfied: threadpoolctl>=2.0.0 in d:\\py\\envs\\7105\\lib\\site-packages (from scikit-learn->pyLDAvis) (2.1.0)\n"
     ]
    }
   ],
   "source": [
    "!pip install --upgrade pythainlp\n",
    "!pip install pyLDAvis"
   ]
  },
  {
   "cell_type": "code",
   "execution_count": 2,
   "metadata": {
    "executionInfo": {
     "elapsed": 15260,
     "status": "ok",
     "timestamp": 1605437569917,
     "user": {
      "displayName": "Thanachart Ritbumroong",
      "photoUrl": "",
      "userId": "18414212507793256437"
     },
     "user_tz": -420
    },
    "id": "Tv1WNGA3BKiZ"
   },
   "outputs": [
    {
     "output_type": "stream",
     "name": "stderr",
     "text": [
      "D:\\py\\envs\\7105\\lib\\site-packages\\gensim\\similarities\\__init__.py:15: UserWarning: The gensim.similarities.levenshtein submodule is disabled, because the optional Levenshtein package <https://pypi.org/project/python-Levenshtein/> is unavailable. Install Levenhstein (e.g. `pip install python-Levenshtein`) to suppress this warning.\n  warnings.warn(msg)\n"
     ]
    }
   ],
   "source": [
    "import pandas as pd\n",
    "import pythainlp\n",
    "import gensim\n",
    "import pyLDAvis.gensim\n",
    "pyLDAvis.enable_notebook()\n",
    "import warnings\n",
    "warnings.filterwarnings(\"ignore\", category=DeprecationWarning) "
   ]
  },
  {
   "cell_type": "code",
   "execution_count": 3,
   "metadata": {
    "executionInfo": {
     "elapsed": 15258,
     "status": "ok",
     "timestamp": 1605437569918,
     "user": {
      "displayName": "Thanachart Ritbumroong",
      "photoUrl": "",
      "userId": "18414212507793256437"
     },
     "user_tz": -420
    },
    "id": "oCxTl04hBmy5"
   },
   "outputs": [],
   "source": [
    "df = pd.read_csv('CustomerReviews.csv')"
   ]
  },
  {
   "cell_type": "code",
   "execution_count": 4,
   "metadata": {
    "colab": {
     "base_uri": "https://localhost:8080/",
     "height": 296
    },
    "executionInfo": {
     "elapsed": 976,
     "status": "ok",
     "timestamp": 1605438650354,
     "user": {
      "displayName": "Thanachart Ritbumroong",
      "photoUrl": "",
      "userId": "18414212507793256437"
     },
     "user_tz": -420
    },
    "id": "7sPfQ6YkNH8c",
    "outputId": "5e18692b-c43c-45af-984c-eb5264da514d"
   },
   "outputs": [
    {
     "output_type": "execute_result",
     "data": {
      "text/plain": [
       "    Review ID           Restaurant_ID     Restaurant  \\\n",
       "16         17  436045MJ-ข้าน้อยขอชาบู  ข้าน้อยขอชาบู   \n",
       "17         18  436045MJ-ข้าน้อยขอชาบู  ข้าน้อยขอชาบู   \n",
       "18         19  436045MJ-ข้าน้อยขอชาบู  ข้าน้อยขอชาบู   \n",
       "19         20  436045MJ-ข้าน้อยขอชาบู  ข้าน้อยขอชาบู   \n",
       "20         21  436045MJ-ข้าน้อยขอชาบู  ข้าน้อยขอชาบู   \n",
       "\n",
       "                                User  \\\n",
       "16                           ployynp   \n",
       "17  27a91236fe5e4559a4f097c97a480781   \n",
       "18  0b81d251e4db486f9bcdba73b374ed99   \n",
       "19  40e0e087f3914fd49a8933b5a29936ca   \n",
       "20  41841cb99ea243a3a8d4b006e946c586   \n",
       "\n",
       "                                             Headline  \\\n",
       "16  บุฟเฟ่ต์ชาบูและพิซซ่าไม่อั้นในราคา 199 บาท เน้...   \n",
       "17  ร้านบุฟเฟ่ต์ ราคามิตรภาพ อยู่ชั้น4 ติดโรงหนัง ...   \n",
       "18                       ของหลากหลาย ปนๆ งงๆ นิดหน่อย   \n",
       "19  อร่อยมากค่ะ คุ้มค่าสมราคา บุฟเฟ่หมูผักต่างๆ รว...   \n",
       "20  แม้จะแปลกบ้าง แต่ก็ถือว่าอยู่ในเกณฑ์ที่ดี มีอา...   \n",
       "\n",
       "                                               Review  Rating  \n",
       "16  หลังจากที่เคยลองสาขายูเนี่ยนมอลล์ไป รอบนี้มาที...     4.0  \n",
       "17  ร้านบุฟเฟ่ต์ที่มีโปรโมชั่นหัวละ199บาท ไม่รวมน้...     4.0  \n",
       "18  เคยรู้จักร้านนี้จากที่ union mall ไม่เคยได้ลอง...     3.0  \n",
       "19  อร่อยมากค่ะ คุ้มค่าสมราคา บุฟเฟ่หมูผักต่างๆ รว...     5.0  \n",
       "20  ก็ตามที่เขียนเลยครับ ว่า ถ้าจะจ่ายในราคา 199 บ...     NaN  "
      ],
      "text/html": "<div>\n<style scoped>\n    .dataframe tbody tr th:only-of-type {\n        vertical-align: middle;\n    }\n\n    .dataframe tbody tr th {\n        vertical-align: top;\n    }\n\n    .dataframe thead th {\n        text-align: right;\n    }\n</style>\n<table border=\"1\" class=\"dataframe\">\n  <thead>\n    <tr style=\"text-align: right;\">\n      <th></th>\n      <th>Review ID</th>\n      <th>Restaurant_ID</th>\n      <th>Restaurant</th>\n      <th>User</th>\n      <th>Headline</th>\n      <th>Review</th>\n      <th>Rating</th>\n    </tr>\n  </thead>\n  <tbody>\n    <tr>\n      <th>16</th>\n      <td>17</td>\n      <td>436045MJ-ข้าน้อยขอชาบู</td>\n      <td>ข้าน้อยขอชาบู</td>\n      <td>ployynp</td>\n      <td>บุฟเฟ่ต์ชาบูและพิซซ่าไม่อั้นในราคา 199 บาท เน้...</td>\n      <td>หลังจากที่เคยลองสาขายูเนี่ยนมอลล์ไป รอบนี้มาที...</td>\n      <td>4.0</td>\n    </tr>\n    <tr>\n      <th>17</th>\n      <td>18</td>\n      <td>436045MJ-ข้าน้อยขอชาบู</td>\n      <td>ข้าน้อยขอชาบู</td>\n      <td>27a91236fe5e4559a4f097c97a480781</td>\n      <td>ร้านบุฟเฟ่ต์ ราคามิตรภาพ อยู่ชั้น4 ติดโรงหนัง ...</td>\n      <td>ร้านบุฟเฟ่ต์ที่มีโปรโมชั่นหัวละ199บาท ไม่รวมน้...</td>\n      <td>4.0</td>\n    </tr>\n    <tr>\n      <th>18</th>\n      <td>19</td>\n      <td>436045MJ-ข้าน้อยขอชาบู</td>\n      <td>ข้าน้อยขอชาบู</td>\n      <td>0b81d251e4db486f9bcdba73b374ed99</td>\n      <td>ของหลากหลาย ปนๆ งงๆ นิดหน่อย</td>\n      <td>เคยรู้จักร้านนี้จากที่ union mall ไม่เคยได้ลอง...</td>\n      <td>3.0</td>\n    </tr>\n    <tr>\n      <th>19</th>\n      <td>20</td>\n      <td>436045MJ-ข้าน้อยขอชาบู</td>\n      <td>ข้าน้อยขอชาบู</td>\n      <td>40e0e087f3914fd49a8933b5a29936ca</td>\n      <td>อร่อยมากค่ะ คุ้มค่าสมราคา บุฟเฟ่หมูผักต่างๆ รว...</td>\n      <td>อร่อยมากค่ะ คุ้มค่าสมราคา บุฟเฟ่หมูผักต่างๆ รว...</td>\n      <td>5.0</td>\n    </tr>\n    <tr>\n      <th>20</th>\n      <td>21</td>\n      <td>436045MJ-ข้าน้อยขอชาบู</td>\n      <td>ข้าน้อยขอชาบู</td>\n      <td>41841cb99ea243a3a8d4b006e946c586</td>\n      <td>แม้จะแปลกบ้าง แต่ก็ถือว่าอยู่ในเกณฑ์ที่ดี มีอา...</td>\n      <td>ก็ตามที่เขียนเลยครับ ว่า ถ้าจะจ่ายในราคา 199 บ...</td>\n      <td>NaN</td>\n    </tr>\n  </tbody>\n</table>\n</div>"
     },
     "metadata": {},
     "execution_count": 4
    }
   ],
   "source": [
    "df.tail()"
   ]
  },
  {
   "cell_type": "markdown",
   "metadata": {
    "id": "9NyF_CbeNX2W"
   },
   "source": [
    "## **Tokenize Words**"
   ]
  },
  {
   "cell_type": "code",
   "execution_count": 5,
   "metadata": {
    "executionInfo": {
     "elapsed": 1366,
     "status": "ok",
     "timestamp": 1605438650751,
     "user": {
      "displayName": "Thanachart Ritbumroong",
      "photoUrl": "",
      "userId": "18414212507793256437"
     },
     "user_tz": -420
    },
    "id": "Dl5ptrJNNa2y"
   },
   "outputs": [],
   "source": [
    "stopwords = list(pythainlp.corpus.thai_stopwords())\n",
    "removed_words = [' ', '  ', '\\n', 'ร้าน', '(', ')' , '           ']\n",
    "screening_words = stopwords + removed_words\n",
    "\n",
    "def tokenize_with_space(sentence):\n",
    "  merged = ''\n",
    "  words = pythainlp.word_tokenize(str(sentence), engine='newmm')\n",
    "  for word in words:\n",
    "    if word not in screening_words:\n",
    "      merged = merged + ',' + word\n",
    "  return merged[1:]"
   ]
  },
  {
   "cell_type": "code",
   "execution_count": 6,
   "metadata": {
    "executionInfo": {
     "elapsed": 1362,
     "status": "ok",
     "timestamp": 1605438650751,
     "user": {
      "displayName": "Thanachart Ritbumroong",
      "photoUrl": "",
      "userId": "18414212507793256437"
     },
     "user_tz": -420
    },
    "id": "wJ979qbENdzH"
   },
   "outputs": [],
   "source": [
    "df['Review_tokenized'] = df['Review'].apply(lambda x: tokenize_with_space(x))"
   ]
  },
  {
   "cell_type": "code",
   "execution_count": 7,
   "metadata": {
    "colab": {
     "base_uri": "https://localhost:8080/",
     "height": 296
    },
    "executionInfo": {
     "elapsed": 1360,
     "status": "ok",
     "timestamp": 1605438650752,
     "user": {
      "displayName": "Thanachart Ritbumroong",
      "photoUrl": "",
      "userId": "18414212507793256437"
     },
     "user_tz": -420
    },
    "id": "725oxXg9OcR5",
    "outputId": "525f54fd-d991-4239-9dc3-9ffbc99f8828"
   },
   "outputs": [
    {
     "output_type": "execute_result",
     "data": {
      "text/plain": [
       "    Review ID           Restaurant_ID     Restaurant  \\\n",
       "16         17  436045MJ-ข้าน้อยขอชาบู  ข้าน้อยขอชาบู   \n",
       "17         18  436045MJ-ข้าน้อยขอชาบู  ข้าน้อยขอชาบู   \n",
       "18         19  436045MJ-ข้าน้อยขอชาบู  ข้าน้อยขอชาบู   \n",
       "19         20  436045MJ-ข้าน้อยขอชาบู  ข้าน้อยขอชาบู   \n",
       "20         21  436045MJ-ข้าน้อยขอชาบู  ข้าน้อยขอชาบู   \n",
       "\n",
       "                                User  \\\n",
       "16                           ployynp   \n",
       "17  27a91236fe5e4559a4f097c97a480781   \n",
       "18  0b81d251e4db486f9bcdba73b374ed99   \n",
       "19  40e0e087f3914fd49a8933b5a29936ca   \n",
       "20  41841cb99ea243a3a8d4b006e946c586   \n",
       "\n",
       "                                             Headline  \\\n",
       "16  บุฟเฟ่ต์ชาบูและพิซซ่าไม่อั้นในราคา 199 บาท เน้...   \n",
       "17  ร้านบุฟเฟ่ต์ ราคามิตรภาพ อยู่ชั้น4 ติดโรงหนัง ...   \n",
       "18                       ของหลากหลาย ปนๆ งงๆ นิดหน่อย   \n",
       "19  อร่อยมากค่ะ คุ้มค่าสมราคา บุฟเฟ่หมูผักต่างๆ รว...   \n",
       "20  แม้จะแปลกบ้าง แต่ก็ถือว่าอยู่ในเกณฑ์ที่ดี มีอา...   \n",
       "\n",
       "                                               Review  Rating  \\\n",
       "16  หลังจากที่เคยลองสาขายูเนี่ยนมอลล์ไป รอบนี้มาที...     4.0   \n",
       "17  ร้านบุฟเฟ่ต์ที่มีโปรโมชั่นหัวละ199บาท ไม่รวมน้...     4.0   \n",
       "18  เคยรู้จักร้านนี้จากที่ union mall ไม่เคยได้ลอง...     3.0   \n",
       "19  อร่อยมากค่ะ คุ้มค่าสมราคา บุฟเฟ่หมูผักต่างๆ รว...     5.0   \n",
       "20  ก็ตามที่เขียนเลยครับ ว่า ถ้าจะจ่ายในราคา 199 บ...     NaN   \n",
       "\n",
       "                                     Review_tokenized  \n",
       "16  หลังจากที่,ลอง,สาขา,ยู,นม,อลล์,รอบ,สาขา,เดอะ,ม...  \n",
       "17  บุฟเฟ่ต์,โปรโมชั่น,หัว,199,บาท,น้ำ,VAT,ทาน,ธรร...  \n",
       "18  รู้จัก,union,mall,ลอง,กิน,จำได้,ขึ้นใจ,ชื่อ,😆,...  \n",
       "19  อร่อย,คุ้มค่า,สมราคา,บุ,ฟเฟ่,หมู,ผัก,น้ำ,จบ,25...  \n",
       "20  จ่าย,ราคา,199,บาท,จ่าย,เงินสด,ราคา,น้ำ,VAT,7,%...  "
      ],
      "text/html": "<div>\n<style scoped>\n    .dataframe tbody tr th:only-of-type {\n        vertical-align: middle;\n    }\n\n    .dataframe tbody tr th {\n        vertical-align: top;\n    }\n\n    .dataframe thead th {\n        text-align: right;\n    }\n</style>\n<table border=\"1\" class=\"dataframe\">\n  <thead>\n    <tr style=\"text-align: right;\">\n      <th></th>\n      <th>Review ID</th>\n      <th>Restaurant_ID</th>\n      <th>Restaurant</th>\n      <th>User</th>\n      <th>Headline</th>\n      <th>Review</th>\n      <th>Rating</th>\n      <th>Review_tokenized</th>\n    </tr>\n  </thead>\n  <tbody>\n    <tr>\n      <th>16</th>\n      <td>17</td>\n      <td>436045MJ-ข้าน้อยขอชาบู</td>\n      <td>ข้าน้อยขอชาบู</td>\n      <td>ployynp</td>\n      <td>บุฟเฟ่ต์ชาบูและพิซซ่าไม่อั้นในราคา 199 บาท เน้...</td>\n      <td>หลังจากที่เคยลองสาขายูเนี่ยนมอลล์ไป รอบนี้มาที...</td>\n      <td>4.0</td>\n      <td>หลังจากที่,ลอง,สาขา,ยู,นม,อลล์,รอบ,สาขา,เดอะ,ม...</td>\n    </tr>\n    <tr>\n      <th>17</th>\n      <td>18</td>\n      <td>436045MJ-ข้าน้อยขอชาบู</td>\n      <td>ข้าน้อยขอชาบู</td>\n      <td>27a91236fe5e4559a4f097c97a480781</td>\n      <td>ร้านบุฟเฟ่ต์ ราคามิตรภาพ อยู่ชั้น4 ติดโรงหนัง ...</td>\n      <td>ร้านบุฟเฟ่ต์ที่มีโปรโมชั่นหัวละ199บาท ไม่รวมน้...</td>\n      <td>4.0</td>\n      <td>บุฟเฟ่ต์,โปรโมชั่น,หัว,199,บาท,น้ำ,VAT,ทาน,ธรร...</td>\n    </tr>\n    <tr>\n      <th>18</th>\n      <td>19</td>\n      <td>436045MJ-ข้าน้อยขอชาบู</td>\n      <td>ข้าน้อยขอชาบู</td>\n      <td>0b81d251e4db486f9bcdba73b374ed99</td>\n      <td>ของหลากหลาย ปนๆ งงๆ นิดหน่อย</td>\n      <td>เคยรู้จักร้านนี้จากที่ union mall ไม่เคยได้ลอง...</td>\n      <td>3.0</td>\n      <td>รู้จัก,union,mall,ลอง,กิน,จำได้,ขึ้นใจ,ชื่อ,😆,...</td>\n    </tr>\n    <tr>\n      <th>19</th>\n      <td>20</td>\n      <td>436045MJ-ข้าน้อยขอชาบู</td>\n      <td>ข้าน้อยขอชาบู</td>\n      <td>40e0e087f3914fd49a8933b5a29936ca</td>\n      <td>อร่อยมากค่ะ คุ้มค่าสมราคา บุฟเฟ่หมูผักต่างๆ รว...</td>\n      <td>อร่อยมากค่ะ คุ้มค่าสมราคา บุฟเฟ่หมูผักต่างๆ รว...</td>\n      <td>5.0</td>\n      <td>อร่อย,คุ้มค่า,สมราคา,บุ,ฟเฟ่,หมู,ผัก,น้ำ,จบ,25...</td>\n    </tr>\n    <tr>\n      <th>20</th>\n      <td>21</td>\n      <td>436045MJ-ข้าน้อยขอชาบู</td>\n      <td>ข้าน้อยขอชาบู</td>\n      <td>41841cb99ea243a3a8d4b006e946c586</td>\n      <td>แม้จะแปลกบ้าง แต่ก็ถือว่าอยู่ในเกณฑ์ที่ดี มีอา...</td>\n      <td>ก็ตามที่เขียนเลยครับ ว่า ถ้าจะจ่ายในราคา 199 บ...</td>\n      <td>NaN</td>\n      <td>จ่าย,ราคา,199,บาท,จ่าย,เงินสด,ราคา,น้ำ,VAT,7,%...</td>\n    </tr>\n  </tbody>\n</table>\n</div>"
     },
     "metadata": {},
     "execution_count": 7
    }
   ],
   "source": [
    "df.tail()"
   ]
  },
  {
   "cell_type": "markdown",
   "metadata": {
    "id": "26a47MzoPh7p"
   },
   "source": [
    "## **Create Dictionary**"
   ]
  },
  {
   "cell_type": "code",
   "execution_count": 8,
   "metadata": {
    "executionInfo": {
     "elapsed": 1880,
     "status": "ok",
     "timestamp": 1605438651278,
     "user": {
      "displayName": "Thanachart Ritbumroong",
      "photoUrl": "",
      "userId": "18414212507793256437"
     },
     "user_tz": -420
    },
    "id": "U06F7vYCPdgX"
   },
   "outputs": [],
   "source": [
    "documents = df['Review_tokenized'].to_list()\n",
    "texts = [[text for text in doc.split(',')] for doc in documents]\n",
    "dictionary = gensim.corpora.Dictionary(texts)"
   ]
  },
  {
   "cell_type": "code",
   "execution_count": 9,
   "metadata": {
    "colab": {
     "base_uri": "https://localhost:8080/"
    },
    "executionInfo": {
     "elapsed": 1876,
     "status": "ok",
     "timestamp": 1605438651278,
     "user": {
      "displayName": "Thanachart Ritbumroong",
      "photoUrl": "",
      "userId": "18414212507793256437"
     },
     "user_tz": -420
    },
    "id": "vo1LdutKP3vR",
    "outputId": "fa979c72-0cd1-4460-ef4a-6904603a86c2"
   },
   "outputs": [
    {
     "output_type": "stream",
     "name": "stdout",
     "text": [
      "dict_keys(['1', '4', '560', 'กิน', 'ข้างนอก', 'ความต้องการ', 'คอ', 'คุณภาพ', 'คุ้ม', 'จำกัด', 'ซุป', 'ดำ', 'ดี', 'ดีมาก', 'ถาด', 'ถาม', 'น่ารัก', 'น้ำ', 'น้ำจิ้ม', 'บริการ', 'บาท', 'ประทับใจ', 'พนักงาน', 'พอกับ', 'ภาพ', 'รสชาติ', 'ราคา', 'สรุป', 'สะอาดสะอ้าน', 'สัน', 'หลากหลาย', 'อร่อย', 'อันนี้', 'อาหาร', 'เคลม', 'เซ็ท', 'เต้าเจี้ยว', 'เนื้อ', 'เป็ด', 'เผ็ด', 'แบบนี้', 'แปลก', 'แฟน', 'โดยรวม', 'โมจิ', 'ใส่ใจ', 'ไม่ต้อง', 'ไอติม', '\\u200b', '21', '30', '9', 'CTW', 'Terminal', 'กา', 'การงด', 'คิดถึง', 'ชาบู', 'ญี่ปุ่น', 'ฐาน', 'ทะยอย', 'ทำงาน', 'ที่ทาง', 'นาที', 'นึกถึง', 'พนักงานบริการ', 'พระราม', 'พรีเมียม', 'พาราไดซ์', 'มาตรา', 'มีโอ', 'รายละเอียด', 'ลูกค้า', 'สมาทาน', 'สาขา', 'สู้', 'ออร์เดอร์', 'เครื่องดื่ม', 'เค้า', 'เจอ', 'เป็นกันเอง', 'เหวี่ยง', 'แจ้ง', 'โม', 'โม่', 'โอเค', '', '++', '2', '555', '600', ':', '::', 'กก', 'กรุบ', 'กั้น', 'ของหวาน', 'คนละ', 'คาว', 'คุ', 'คุ้มค่า', 'จาน', 'จิ้ม', 'จืด', 'ฉาก', 'ชอบ', 'ชาเขียว', 'ชิ้น', 'ซอย', 'ซอส', 'ตก', 'ตะ', 'ตัก', 'ตามน้ำ', 'ต่างกัน', 'ถั่ว', 'ถ่ายรูป', 'ทาน', 'นั่ง', 'นุ่ม', 'บด', 'บาร์', 'บู', 'ผัก', 'ภาษา', 'มีชื่อ', 'ยังมี', 'รส', 'รี่', 'รู้สึก', 'ลอง', 'ลิ้น', 'ลืม', 'ววว', 'สด', 'สตอ', 'สั่ง', 'สามรส', 'ส่วนตัว', 'หนึบ', 'หม้อ', 'หวาน', 'อยากได้', 'เข้มข้น', 'เข้ากัน', 'เค็ม', 'เนื้อวัว', 'เนื้อสัตว์', 'เนื้อหมู', 'เบอ', 'เป็นผู้ใหญ่', 'เลือก', 'เสิร์ฟ', 'เหนียว', 'เห็ด', 'แดง', 'แตก', 'แตา', 'แนว', 'แย้', 'โควิด', 'โต๊ะ', 'โร', 'ใส', 'ไก่', 'ไข่', 'ไดฟูกุ', 'ไผ่', 'ไม้', 'ไหว', '3', 'ข้าว', 'จ่าย', 'ถ้วย', 'ธรรมดา', 'ส', 'ออ', 'เกินไป', 'เลี่ยน', 'โปร', 'โหด', 'ไว', 'ไอศกรีม', 'ขนม', 'คุณภาพดี', 'ตัดสินใจ', 'ต่าง ๆ', 'ที่จะ', 'ที่นั่ง', 'บัตรเครดิต', 'มมาก', 'ลูกชิ้น', 'สบายดี', 'หน้า', 'หอ', 'เดิน', 'เด็ก', 'เส้น', 'เหมือนกับ', 'แคบ', 'ได้กลิ่น', 'คามี', 'ซึ', 'นะคะ', 'บุ', 'บ๋วย', 'พอน', 'ฟเฟ่', 'รา', 'สาย', 'หยิบ', 'โซน', 'โปรโมชั่น', '+', '/', '20', '4.0', '5', 'Menu', 'Number', 'กรรมวิธี', 'กะปิ', 'ก์', 'คน', 'คะแนน', 'ชุด', 'ดังเดิม', 'บุฟเฟ่ต์', 'ประ', 'พารา', 'มอ', 'ยุค', 'ร้านอาหาร', 'ล', 'สุกี้', 'สไตล์', 'ส์', 'หมู', 'หลาก', 'หลายชนิด', 'เดอะ', 'เมนู', 'แบบฉบับ', 'แบ่ง', 'ได', 'ไทย', '–', '!!!!', '500', 'กาแฟ', 'งวด', 'ตอนที่', 'ตำ', 'ติด', 'ทั่วไป', 'น', 'บ๊วย', 'ยุ', 'ร้อน', 'ลุย', 'สุกี้ยากี้', 'อยู่แล้ว', 'ออสเตรเลีย', 'เป็นปกติ', 'เฟรนไชส์', 'เรื่อง', 'เหมาะสม', 'แนะนำ', 'โช', 'ไข่ไก่', 'ไอศครีม', '..', '399', 'กุ้ง', 'ของกิน', 'ขา', 'ชิ', 'ซูชิ', 'ซ่า', 'ตอน', 'ตอนนี้', 'นิดนึง', 'ปุระ', 'ปูอัด', 'ม', 'ละลานตา', 'สายพาน', 'หิว', 'ฮ่า', 'าน', 'เกี๊ยว', 'เท', 'เทียบ', 'เล่น', 'แพง', 'แล้วก็', 'ไม่งั้น', 'กลาย', 'กี่', 'ชั่วคราว', 'ชื่นใจ', 'ซะงั้น', 'ญี่', 'ดึก', 'ตบท้าย', 'ตัว', 'ทอด', 'ทานอาหาร', 'นพ', 'นึก', 'น้ะ', 'ปลา', 'ปุ', 'ผิดหวัง', 'วก', 'สมใจ', 'อย่า', 'อาหารเสริม', 'เติม', 'เป็นมา', 'เป็นหลัก', 'เย็น', '1.15', 'net', 'กลับมา', 'ของคาว', 'ชม.', 'ตรงนั้น', 'ยืน', 'ลายตา', 'สไลด์', 'อัพเดท', 'อิ่ม', 'เบ', 'เพลิน', 'ไลน์', '\"', '-', '/คน', '15', '359', 'G', 'Net', 'Shabushi', 'กด', 'กรอ', 'ขาดสารอาหาร', 'ขึ้นราคา', 'ข่าว', 'คนเดียว', 'ครึ่ง', 'คิว', 'งาน', 'จุ', 'ชั่วโมง', 'ชั้น', 'ชื่น', 'ดู', 'ตลับ', 'ตับ', 'ตั้งอยู่', 'ติง', 'ถนนใหญ่', 'ถูกใจ', 'ทำ', 'ทิ้ง', 'น้ำมัน', 'บดี', 'ปลาดิบ', 'ปอกเปลือก', 'ฝรั่ง', 'ฝั่ง', 'มอลล์', 'มื้อ', 'รอ', 'ระดับ', 'รายการ', 'ลด', 'ลา', 'ลูก', 'วันหยุด', 'วาง', 'วานิลา', 'สะอาด', 'สาเหตุ', 'สำหรับ', 'สไปรท์', 'หนา', 'หอม', 'หอย', 'หาไม่', 'ห่างหาย', 'ห้าง', 'อม', 'ออกมา', 'อาทิตย์', 'อีกครั้ง', 'เช็คบิล', 'เด่น', 'เด้ง', 'เบคอน', 'เปรี้ยวหวาน', 'เพื่อน', 'เลิก', 'เวลา', 'เสาร์', 'เหมือน', 'เหมือนกัน', 'แก้ว', 'แถม', 'แน่น', 'แป้ง', 'แย่', 'แออัด', 'โดน', 'โดยประมาณ', 'โฟลต', 'โอ', 'ใจดี', 'ใจมา', 'ใช้ได้', 'ใส่', 'ได้ยิน', 'ชอค', 'ต', 'นัด', 'นิ', 'มะนาว', 'มุ', 'ลงเอย', 'ว', 'วันก่อน', 'ห', 'หา', 'อยุ่', 'อาหารสด', 'เบอร์', 'แกงค์', 'แล', 'โก', 'กินที่', 'ขยัน', 'จอง', 'ชู', 'ณ์', 'บุฟเฟต์', 'ป', 'ประตู', 'พลาด', 'พอได้', 'พี่', 'รอบ', 'ร้อย', 'สาม', 'สุดท้าย', 'หลายครั้ง', 'หล่ะ', 'อาราม', 'เข้าหน้า', 'เต็ม', 'โชคดี', 'ขวัญใจ', 'ข้อดี', 'ต้องการ', 'ทั่วถึง', 'นํ้า', 'บ', 'ฟเฟ', 'มี่', 'ระบบ', 'รีวิว', 'สวัสดี', 'เก้', 'ใช้แล้ว', '^^', 'xx', 'กลยุทธ์', 'ขนาด', 'ข้น', 'ข้าวปั้น', 'ค่า', 'ชอป', 'ซุ้ม', 'ดีขึ้น', 'ตรงข้าม', 'ตรงนี้', 'ต้ม', 'ต้มยำ', 'ท่าน', 'นัล', 'บริเวณ', 'บัตรสมาชิก', 'ปรับปรุง', 'มันดี', 'มากขึ้น', 'ยอด', 'ลาน', 'สลัด', 'หมู่คณะ', 'ออกร้าน', 'อิอิ', 'เครือ', 'เคลื่อนตัว', 'เคาน์เตอร์', 'เบา', 'เป็นแนว', 'แมค', 'โชคชะตา', 'โด', 'โน้น', 'โออิชิ', '199', '39', '40', '49', 'HALL', 'MCC', 'ค่ายมวย', 'ด้านใน', 'ตอนแรก', 'ตัวเลือก', 'ติดกับ', 'ที่ไหนได้', 'นม', 'นา', 'น้ำดื่ม', 'พิซ', 'พิซซ่า', 'ฟี', 'ยู', 'รี', 'หลังจากที่', 'อลล์', 'อเรีย', 'เซ', 'แกงเขียวหวาน', 'แน่นอน', 'แวะ', '10', '300', '6', 'VAT', 'กำ', 'ค่าน้ำ', 'ช่อง', 'ซี', 'ซึป', 'ถูกหวย', 'ทอน', 'นึง', 'ฟรี', 'ฟู้ด', 'รับประกัน', 'ลอตเตอรี่', 'สัปดาห์', 'หวย', 'หัว', 'ฮัน', 'เงิน', 'แลก', 'โทส', 'ได้เวลา', 'Narai', 'mall', 'pizza', 'pizzeria', 'union', 'ของสด', 'ขึ้นใจ', 'ข้าวมันไก่', 'จำได้', 'ชื่อ', 'ตตี้', 'ตัดกำลัง', 'ตู้', 'นิว', 'บางส่วน', 'ปรุง', 'รู้จัก', 'ลี', 'สปา', 'สุก', 'เก', '😆', '🤣', '128', '255', '29', 'ครีม', 'จบ', 'จุก', 'ชาต', 'บรา', 'บุพ', 'ปิดท้าย', 'ย', 'วิป', 'สมราคา', 'สวย', 'เ', 'เซต', 'เด็ด', 'เป้ง', 'เฟ่', 'เรย', 'เริส', 'เเบบ', 'โชค', '%', '7', 'ทดแทน', 'ปรกติ', 'สดๆ ร้อนๆ', 'เงินสด', 'โดยเฉพาะ'])\n"
     ]
    }
   ],
   "source": [
    "print(dictionary.token2id.keys())"
   ]
  },
  {
   "cell_type": "code",
   "execution_count": 10,
   "metadata": {
    "executionInfo": {
     "elapsed": 1873,
     "status": "ok",
     "timestamp": 1605438651279,
     "user": {
      "displayName": "Thanachart Ritbumroong",
      "photoUrl": "",
      "userId": "18414212507793256437"
     },
     "user_tz": -420
    },
    "id": "VP1X-3ntQGKt"
   },
   "outputs": [],
   "source": [
    "gensim_corpus = [dictionary.doc2bow(text, allow_update=True) for text in texts]\n",
    "word_frequencies = [[(dictionary[id], frequence) for id, frequence in couple] for couple in gensim_corpus]"
   ]
  },
  {
   "cell_type": "markdown",
   "metadata": {
    "id": "DXgYt5g-0Zcd"
   },
   "source": [
    "## **Topic Modeling**"
   ]
  },
  {
   "cell_type": "code",
   "execution_count": 11,
   "metadata": {
    "colab": {
     "base_uri": "https://localhost:8080/"
    },
    "executionInfo": {
     "elapsed": 1870,
     "status": "ok",
     "timestamp": 1605438651280,
     "user": {
      "displayName": "Thanachart Ritbumroong",
      "photoUrl": "",
      "userId": "18414212507793256437"
     },
     "user_tz": -420
    },
    "id": "kaDtxDpuQZon",
    "outputId": "dc788b0c-8c87-433c-dac4-390376f43614"
   },
   "outputs": [
    {
     "output_type": "stream",
     "name": "stdout",
     "text": [
      "Wall time: 352 ms\n"
     ]
    }
   ],
   "source": [
    "num_topics = 7\n",
    "chunksize = 4000 # size of the doc looked at every pass\n",
    "passes = 20 # number of passes through documents\n",
    "iterations = 50\n",
    "eval_every = 1  # Don't evaluate model perplexity, takes too much time.\n",
    "\n",
    "# Make a index to word dictionary.\n",
    "temp = dictionary[0]  # This is only to \"load\" the dictionary.\n",
    "id2word = dictionary.id2token\n",
    "\n",
    "%time model = gensim.models.LdaModel(corpus=gensim_corpus, id2word=id2word, chunksize=chunksize, \\\n",
    "                       alpha='auto', eta='auto', \\\n",
    "                       iterations=iterations, num_topics=num_topics, \\\n",
    "                       passes=passes, eval_every=eval_every)"
   ]
  },
  {
   "cell_type": "code",
   "execution_count": 12,
   "metadata": {
    "colab": {
     "base_uri": "https://localhost:8080/",
     "height": 861
    },
    "executionInfo": {
     "elapsed": 2831,
     "status": "ok",
     "timestamp": 1605438652246,
     "user": {
      "displayName": "Thanachart Ritbumroong",
      "photoUrl": "",
      "userId": "18414212507793256437"
     },
     "user_tz": -420
    },
    "id": "bdrm8raPROPN",
    "outputId": "72ad1bad-3e07-4825-cbff-90c393e0aa64"
   },
   "outputs": [
    {
     "output_type": "execute_result",
     "data": {
      "text/plain": [
       "PreparedData(topic_coordinates=              x         y  topics  cluster       Freq\n",
       "topic                                                \n",
       "5      0.065905 -0.068519       1        1  40.923113\n",
       "3      0.128509  0.089980       2        1  20.837115\n",
       "1     -0.107179  0.099939       3        1  17.679901\n",
       "2     -0.029173 -0.084530       4        1  10.224400\n",
       "0     -0.037515 -0.030649       5        1   8.111198\n",
       "4     -0.014535 -0.001253       6        1   2.199389\n",
       "6     -0.006011 -0.004967       7        1   0.024884, topic_info=        Term       Freq      Total Category  logprob  loglift\n",
       "48         ​   7.000000   7.000000  Default  30.0000  30.0000\n",
       "3        กิน  18.000000  18.000000  Default  29.0000  29.0000\n",
       "105      ชอบ   6.000000   6.000000  Default  28.0000  28.0000\n",
       "31     อร่อย  16.000000  16.000000  Default  27.0000  27.0000\n",
       "37     เนื้อ  14.000000  14.000000  Default  26.0000  26.0000\n",
       "..       ...        ...        ...      ...      ...      ...\n",
       "351      คิว   0.000575   4.644780   Topic7  -6.4201  -0.6982\n",
       "576  บางส่วน   0.000575   1.794051   Topic7  -6.4201   0.2531\n",
       "83        โม   0.000575   5.049370   Topic7  -6.4201  -0.7817\n",
       "240     เดอะ   0.000575   5.286819   Topic7  -6.4202  -0.8277\n",
       "20       บาท   0.000575  11.926072   Topic7  -6.4203  -1.6413\n",
       "\n",
       "[433 rows x 6 columns], token_table=      Topic      Freq   Term\n",
       "term                        \n",
       "86        1  0.974739       \n",
       "336       1  0.566463      \"\n",
       "336       4  0.283232      \"\n",
       "213       3  0.722379      +\n",
       "337       1  0.758672      -\n",
       "...     ...       ...    ...\n",
       "47        4  0.163500  ไอติม\n",
       "47        5  0.163500  ไอติม\n",
       "48        5  0.952316      ​\n",
       "583       4  0.853957      😆\n",
       "584       4  0.853980      🤣\n",
       "\n",
       "[417 rows x 3 columns], R=30, lambda_step=0.01, plot_opts={'xlab': 'PC1', 'ylab': 'PC2'}, topic_order=[6, 4, 2, 3, 1, 5, 7])"
      ],
      "text/html": "\n<link rel=\"stylesheet\" type=\"text/css\" href=\"https://cdn.jsdelivr.net/gh/bmabey/pyLDAvis@3.3.1/pyLDAvis/js/ldavis.v1.0.0.css\">\n\n\n<div id=\"ldavis_el2126819969641376722314185509\"></div>\n<script type=\"text/javascript\">\n\nvar ldavis_el2126819969641376722314185509_data = {\"mdsDat\": {\"x\": [0.06590455637304432, 0.12850878935005894, -0.10717879208128231, -0.02917345098160576, -0.037514870663898886, -0.01453548913204654, -0.00601074286426984], \"y\": [-0.06851927574177663, 0.08997956359453856, 0.09993883836217254, -0.08452961174513186, -0.030649138179686387, -0.0012532505251582578, -0.004967125764958193], \"topics\": [1, 2, 3, 4, 5, 6, 7], \"cluster\": [1, 1, 1, 1, 1, 1, 1], \"Freq\": [40.92311318860212, 20.837114928201736, 17.679900747380913, 10.224399912047499, 8.111198469980737, 2.1993887044778138, 0.024884049309175232]}, \"tinfo\": {\"Term\": [\"\\u200b\", \"\\u0e01\\u0e34\\u0e19\", \"\\u0e0a\\u0e2d\\u0e1a\", \"\\u0e2d\\u0e23\\u0e48\\u0e2d\\u0e22\", \"\\u0e40\\u0e19\\u0e37\\u0e49\\u0e2d\", \"\\u0e04\\u0e38\\u0e49\\u0e21\", \"\", \":\", \"\\u0e40\\u0e19\\u0e37\\u0e49\\u0e2d\\u0e27\\u0e31\\u0e27\", \"\\u0e40\\u0e25\\u0e37\\u0e2d\\u0e01\", \"\\u0e1a\\u0e23\\u0e34\\u0e01\\u0e32\\u0e23\", \"\\u0e25\\u0e2d\\u0e07\", \"\\u0e01\\u0e38\\u0e49\\u0e07\", \"\\u0e2a\\u0e31\\u0e48\\u0e07\", \"\\u0e21\", \"\\u0e40\\u0e17\", \"\\u0e1b\\u0e38\\u0e23\\u0e30\", \"\\u0e2d\\u0e32\\u0e2b\\u0e32\\u0e23\", \"\\u0e19\\u0e49\\u0e33\\u0e08\\u0e34\\u0e49\\u0e21\", \"\\u0e1c\\u0e31\\u0e01\", \"\\u0e0a\\u0e32\\u0e1a\\u0e39\", \"\\u0e1a\\u0e38\", \"-\", \"\\u0e02\\u0e2d\\u0e07\\u0e2b\\u0e27\\u0e32\\u0e19\", \"\\u0e2b\\u0e22\\u0e34\\u0e1a\", \"\\u0e04\\u0e19\", \"\\u0e23\\u0e2a\\u0e0a\\u0e32\\u0e15\\u0e34\", \"\\u0e1e\\u0e19\\u0e31\\u0e01\\u0e07\\u0e32\\u0e19\", \"\\u0e19\\u0e49\\u0e33\", \"\\u0e14\\u0e35\", \"\", \"\\u0e14\\u0e39\", \"\\u0e40\\u0e27\\u0e25\\u0e32\", \"\\u0e04\\u0e19\", \"\\u0e2a\\u0e14\", \"G\", \"\\u0e40\\u0e2b\\u0e47\\u0e14\", \"15\", \"\\u0e0a\\u0e31\\u0e48\\u0e27\\u0e42\\u0e21\\u0e07\", \"\\u0e43\\u0e0a\\u0e49\\u0e44\\u0e14\\u0e49\", \"\\u0e40\\u0e19\\u0e37\\u0e49\\u0e2d\\u0e27\\u0e31\\u0e27\", \"\\u0e19\\u0e38\\u0e48\\u0e21\", \"\\u0e19\\u0e4d\\u0e49\\u0e32\", \"\\u0e1a\\u0e38\\u0e1f\\u0e40\\u0e1f\\u0e15\\u0e4c\", \"\\u0e08\\u0e34\\u0e49\\u0e21\", \"::\", \"\\u0e44\\u0e14\\u0e1f\\u0e39\\u0e01\\u0e38\", \"\\u0e44\\u0e21\\u0e49\", \"\\u0e44\\u0e1c\\u0e48\", \"\\u0e40\\u0e25\\u0e34\\u0e01\", \"Shabushi\", \"\\u0e25\\u0e32\", \"\\u0e23\\u0e35\\u0e48\", \"\\u0e04\\u0e23\\u0e36\\u0e48\\u0e07\", \"\\u0e2a\\u0e15\\u0e2d\", \"\\u0e08\\u0e37\\u0e14\", \"359\", \"\\u0e27\\u0e32\\u0e19\\u0e34\\u0e25\\u0e32\", \"\\u0e2b\\u0e2d\\u0e21\", \"\\u0e43\\u0e08\\u0e14\\u0e35\", \"\\u0e23\\u0e2d\", \"-\", \"\\u0e04\\u0e34\\u0e27\", \"\\u0e01\\u0e34\\u0e19\", \":\", \"\\u0e2b\\u0e27\\u0e32\\u0e19\", \"\\u0e2a\\u0e33\\u0e2b\\u0e23\\u0e31\\u0e1a\", \"\\u0e2d\\u0e23\\u0e48\\u0e2d\\u0e22\", \"1\", \"\\u0e08\\u0e32\\u0e19\", \"\\u0e23\\u0e39\\u0e49\\u0e2a\\u0e36\\u0e01\", \"\\u0e01\\u0e38\\u0e49\\u0e07\", \"\\u0e23\\u0e2a\\u0e0a\\u0e32\\u0e15\\u0e34\", \"\\u0e25\\u0e2d\\u0e07\", \"\\u0e2a\\u0e31\\u0e48\\u0e07\", \"\\u0e42\\u0e2d\\u0e40\\u0e04\", \"\\u0e0a\\u0e31\\u0e49\\u0e19\", \"\\u0e2a\\u0e44\\u0e25\\u0e14\\u0e4c\", \"\\u0e19\\u0e49\\u0e33\", \"\\u0e17\\u0e32\\u0e19\", \"\\u0e40\\u0e19\\u0e37\\u0e49\\u0e2d\", \"\\u0e40\\u0e25\\u0e37\\u0e2d\\u0e01\", \"\\u0e14\\u0e35\", \"\\u0e0b\\u0e38\\u0e1b\", \"\\u0e23\\u0e32\\u0e04\\u0e32\", \"\\u0e0b\\u0e39\\u0e0a\\u0e34\", \"\\u0e2d\\u0e32\\u0e2b\\u0e32\\u0e23\", \"\\u0e0a\\u0e32\\u0e1a\\u0e39\", \"\\u0e19\\u0e36\\u0e01\\u0e16\\u0e36\\u0e07\", \"\\u0e40\\u0e01\\u0e34\\u0e19\\u0e44\\u0e1b\", \"\\u0e19\\u0e36\\u0e01\", \"\\u0e42\\u0e21\\u0e48\", \"\\u0e40\\u0e1b\\u0e47\\u0e19\\u0e2b\\u0e25\\u0e31\\u0e01\", \"399\", \"\\u0e2b\\u0e34\\u0e27\", \"\\u0e15\\u0e2d\\u0e19\\u0e19\\u0e35\\u0e49\", \"\\u0e40\\u0e1a\", \"\\u0e2d\\u0e34\\u0e48\\u0e21\", \"\\u0e1b\\u0e38\\u0e23\\u0e30\", \"\\u0e40\\u0e17\", \"\\u0e21\", \"4\", \"\\u0e01\\u0e35\\u0e48\", \"\\u0e0a\\u0e31\\u0e48\\u0e27\\u0e04\\u0e23\\u0e32\\u0e27\", \"\\u0e0b\\u0e30\\u0e07\\u0e31\\u0e49\\u0e19\", \"\\u0e0d\\u0e35\\u0e48\", \"\\u0e17\\u0e32\\u0e19\\u0e2d\\u0e32\\u0e2b\\u0e32\\u0e23\", \"\\u0e19\\u0e1e\", \"\\u0e19\\u0e49\\u0e30\", \"\\u0e1b\\u0e25\\u0e32\", \"\\u0e1b\\u0e38\", \"\\u0e27\\u0e01\", \"\\u0e40\\u0e1b\\u0e47\\u0e19\\u0e21\\u0e32\", \"\\u0e40\\u0e22\\u0e47\\u0e19\", \"\\u0e01\\u0e25\\u0e32\\u0e22\", \"\\u0e2a\\u0e21\\u0e43\\u0e08\", \"\\u0e14\\u0e36\\u0e01\", \"\\u0e2d\\u0e32\\u0e2b\\u0e32\\u0e23\\u0e40\\u0e2a\\u0e23\\u0e34\\u0e21\", \"\\u0e17\\u0e2d\\u0e14\", \"\\u0e04\\u0e38\\u0e49\\u0e21\", \"\\u0e08\\u0e48\\u0e32\\u0e22\", \"\\u0e17\\u0e32\\u0e19\", \"\\u0e01\\u0e38\\u0e49\\u0e07\", \"\\u0e0b\\u0e39\\u0e0a\\u0e34\", \"\\u0e1a\\u0e32\\u0e17\", \"\\u0e2a\\u0e32\\u0e02\\u0e32\", \"\\u0e23\\u0e2a\", \"\\u0e23\\u0e32\\u0e04\\u0e32\", \"\\u0e0a\\u0e32\\u0e1a\\u0e39\", \"\\u0e40\\u0e21\\u0e19\\u0e39\", \"\\u0e0b\\u0e38\\u0e1b\", \"\\u0e0a\\u0e2d\\u0e1a\", \"\\u0e0a\\u0e34\", \"199\", \"-\", \"\\u0e2d\\u0e32\\u0e2b\\u0e32\\u0e23\", \"\\u0e40\\u0e19\\u0e37\\u0e49\\u0e2d\", \"\\u0e14\\u0e35\", \"\\u0e19\\u0e49\\u0e33\", \"\\u0e2a\\u0e31\\u0e48\\u0e07\", \"2\", \"\\u0e18\\u0e23\\u0e23\\u0e21\\u0e14\\u0e32\", \"\\u0e41\\u0e19\\u0e30\\u0e19\\u0e33\", \"+\", \"\\u0e0a\\u0e38\\u0e14\", \"/\", \"\\u0e2a\\u0e38\\u0e01\\u0e35\\u0e49\", \"\\u0e41\\u0e1a\\u0e48\\u0e07\", \"\\u0e1f\\u0e40\\u0e1f\\u0e48\", \"\\u0e42\\u0e1b\\u0e23\\u0e42\\u0e21\\u0e0a\\u0e31\\u0e48\\u0e19\", \"\\u0e40\\u0e0b\\u0e15\", \"29\", \"\\u0e08\\u0e38\\u0e01\", \"\\u0e04\\u0e23\\u0e35\\u0e21\", \"\\u0e2a\\u0e27\\u0e22\", \"\\u0e40\\u0e1b\\u0e49\\u0e07\", \"\\u0e1a\\u0e38\\u0e1e\", \"255\", \"\\u0e40\\u0e14\\u0e47\\u0e14\", \"\\u0e42\\u0e0a\\u0e04\", \"128\", \"\\u0e22\", \"\\u0e40\\u0e23\\u0e34\\u0e2a\", \"\\u0e1a\\u0e23\\u0e32\", \"\\u0e40\\u0e40\\u0e1a\\u0e1a\", \"\\u0e1b\\u0e34\\u0e14\\u0e17\\u0e49\\u0e32\\u0e22\", \"\\u0e0a\\u0e32\\u0e15\", \"\\u0e2a\\u0e21\\u0e23\\u0e32\\u0e04\\u0e32\", \"\\u0e40\", \"\\u0e08\\u0e1a\", \"\\u0e40\\u0e1f\\u0e48\", \"\\u0e40\\u0e23\\u0e22\", \"\\u0e14\\u0e35\\u0e21\\u0e32\\u0e01\", \"\\u0e42\\u0e21\", \"\\u0e1a\\u0e38\", \"\\u0e1a\\u0e38\\u0e1f\\u0e40\\u0e1f\\u0e48\\u0e15\\u0e4c\", \"\\u0e2b\\u0e21\\u0e39\", \"\\u0e19\\u0e49\\u0e33\", \"\\u0e19\\u0e49\\u0e33\\u0e08\\u0e34\\u0e49\\u0e21\", \":\", \"\\u0e40\\u0e25\\u0e37\\u0e2d\\u0e01\", \"\\u0e04\\u0e38\\u0e49\\u0e21\\u0e04\\u0e48\\u0e32\", \"\\u0e02\\u0e2d\\u0e07\\u0e2b\\u0e27\\u0e32\\u0e19\", \"\\u0e2d\\u0e23\\u0e48\\u0e2d\\u0e22\", \"\\u0e1a\\u0e32\\u0e17\", \"\\u0e0b\\u0e38\\u0e1b\", \"\\u0e0a\\u0e32\\u0e1a\\u0e39\", \"\\u0e14\\u0e35\", \"\\u0e04\\u0e19\\u0e25\\u0e30\", \"\\u0e1e\\u0e34\\u0e0b\\u0e0b\\u0e48\\u0e32\", \"\\u0e17\\u0e32\\u0e19\", \"\\u0e23\\u0e2a\\u0e0a\\u0e32\\u0e15\\u0e34\", \"\\u0e1c\\u0e31\\u0e01\", \"\\u0e23\\u0e32\\u0e04\\u0e32\", \"\\u0e2d\\u0e32\\u0e2b\\u0e32\\u0e23\", \"\\u0e40\\u0e19\\u0e37\\u0e49\\u0e2d\", \"\\u0e14\\u0e33\", \"\\u0e01\\u0e34\\u0e19\", \"\\u0e1a\\u0e32\\u0e07\\u0e2a\\u0e48\\u0e27\\u0e19\", \"\\u0e0a\\u0e37\\u0e48\\u0e2d\", \"\\u0e04\\u0e48\\u0e32\", \"\\ud83d\\ude06\", \"\\u0e08\\u0e33\\u0e44\\u0e14\\u0e49\", \"pizzeria\", \"\\u0e15\\u0e31\\u0e14\\u0e01\\u0e33\\u0e25\\u0e31\\u0e07\", \"\\u0e02\\u0e2d\\u0e07\\u0e2a\\u0e14\", \"\\u0e40\\u0e01\", \"\\u0e1b\\u0e23\\u0e38\\u0e07\", \"\\u0e02\\u0e36\\u0e49\\u0e19\\u0e43\\u0e08\", \"union\", \"pizza\", \"\\u0e15\\u0e15\\u0e35\\u0e49\", \"\\u0e25\\u0e35\", \"\\u0e2a\\u0e1b\\u0e32\", \"\\u0e19\\u0e34\\u0e27\", \"\\u0e02\\u0e49\\u0e32\\u0e27\\u0e21\\u0e31\\u0e19\\u0e44\\u0e01\\u0e48\", \"\\u0e15\\u0e39\\u0e49\", \"Narai\", \"mall\", \"\\u0e2a\\u0e38\\u0e01\", \"\\ud83e\\udd23\", \"\\u0e23\\u0e39\\u0e49\\u0e08\\u0e31\\u0e01\", \"\\u0e2b\\u0e21\\u0e39\\u0e48\\u0e04\\u0e13\\u0e30\", \"xx\", \"\\u0e1a\\u0e31\\u0e15\\u0e23\\u0e2a\\u0e21\\u0e32\\u0e0a\\u0e34\\u0e01\", \"\\u0e02\\u0e49\\u0e19\", \"\\u0e15\\u0e49\\u0e21\", \"\\u0e21\\u0e31\\u0e19\\u0e14\\u0e35\", \"\\u0e2b\\u0e21\\u0e49\\u0e2d\", \"\\u0e2b\\u0e19\\u0e49\\u0e32\", \"\\\"\", \"\\u0e2b\\u0e22\\u0e34\\u0e1a\", \"\\u0e2d\\u0e32\\u0e2b\\u0e32\\u0e23\", \"\\u0e04\\u0e38\\u0e13\\u0e20\\u0e32\\u0e1e\", \"3\", \"\\u0e2b\\u0e49\\u0e32\\u0e07\", \"\\u0e2a\\u0e32\\u0e22\\u0e1e\\u0e32\\u0e19\", \"\\u0e40\\u0e25\\u0e37\\u0e2d\\u0e01\", \"\\u0e0a\\u0e34\", \"\\u0e23\\u0e32\\u0e04\\u0e32\", \"\\u0e0a\\u0e32\\u0e1a\\u0e39\", \"\\u0e14\\u0e35\", \"\\u0e17\\u0e32\\u0e19\", \"\\u0e01\\u0e34\\u0e19\", \"\\u0e2d\\u0e23\\u0e48\\u0e2d\\u0e22\", \"\\u0e1a\\u0e23\\u0e34\\u0e01\\u0e32\\u0e23\", \"\\u0e1e\\u0e19\\u0e31\\u0e01\\u0e07\\u0e32\\u0e19\", \"\\u0e2a\\u0e32\\u0e02\\u0e32\", \"\\u0e25\\u0e2d\\u0e07\", \"\\u0e23\\u0e39\\u0e49\\u0e2a\\u0e36\\u0e01\", \"\\u0e40\\u0e21\\u0e19\\u0e39\", \"\\u0e40\\u0e19\\u0e37\\u0e49\\u0e2d\", \"\\u0e2d\\u0e2d\", \"\\u0e2b\\u0e25\\u0e32\\u0e01\\u0e2b\\u0e25\\u0e32\\u0e22\", \"\\u0e40\\u0e2b\\u0e21\\u0e32\\u0e30\\u0e2a\\u0e21\", \"\\u200b\", \"\\u0e1b\\u0e23\\u0e30\\u0e17\\u0e31\\u0e1a\\u0e43\\u0e08\", \"\\u0e15\\u0e48\\u0e32\\u0e07 \\u0e46\", \"\\u0e16\\u0e32\\u0e14\", \"\\u0e16\\u0e32\\u0e21\", \"\\u0e44\\u0e21\\u0e48\\u0e15\\u0e49\\u0e2d\\u0e07\", \"\\u0e04\\u0e27\\u0e32\\u0e21\\u0e15\\u0e49\\u0e2d\\u0e07\\u0e01\\u0e32\\u0e23\", \"\\u0e02\\u0e49\\u0e32\\u0e07\\u0e19\\u0e2d\\u0e01\", \"\\u0e40\\u0e1c\\u0e47\\u0e14\", \"\\u0e08\\u0e33\\u0e01\\u0e31\\u0e14\", \"\\u0e43\\u0e2a\\u0e48\\u0e43\\u0e08\", \"560\", \"\\u0e1e\\u0e2d\\u0e01\\u0e31\\u0e1a\", \"\\u0e42\\u0e21\\u0e08\\u0e34\", \"\\u0e20\\u0e32\\u0e1e\", \"\\u0e41\\u0e1f\\u0e19\", \"\\u0e40\\u0e15\\u0e49\\u0e32\\u0e40\\u0e08\\u0e35\\u0e49\\u0e22\\u0e27\", \"\\u0e2a\\u0e30\\u0e2d\\u0e32\\u0e14\\u0e2a\\u0e30\\u0e2d\\u0e49\\u0e32\\u0e19\", \"\\u0e41\\u0e1a\\u0e1a\\u0e19\\u0e35\\u0e49\", \"\\u0e40\\u0e04\\u0e25\\u0e21\", \"\\u0e1a\\u0e31\\u0e15\\u0e23\\u0e40\\u0e04\\u0e23\\u0e14\\u0e34\\u0e15\", \"\\u0e2a\\u0e1a\\u0e32\\u0e22\\u0e14\\u0e35\", \"\\u0e02\\u0e19\\u0e21\", \"\\u0e15\\u0e31\\u0e14\\u0e2a\\u0e34\\u0e19\\u0e43\\u0e08\", \"\\u0e04\\u0e38\\u0e13\\u0e20\\u0e32\\u0e1e\\u0e14\\u0e35\", \"\\u0e40\\u0e2a\\u0e49\\u0e19\", \"\\u0e17\\u0e35\\u0e48\\u0e08\\u0e30\", \"\\u0e44\\u0e14\\u0e49\\u0e01\\u0e25\\u0e34\\u0e48\\u0e19\", \"\\u0e40\\u0e14\\u0e47\\u0e01\", \"\\u0e41\\u0e04\\u0e1a\", \"\\u0e2b\\u0e25\\u0e32\\u0e01\\u0e2b\\u0e25\\u0e32\\u0e22\", \"\\u0e1a\\u0e23\\u0e34\\u0e01\\u0e32\\u0e23\", \"\\u0e19\\u0e31\\u0e48\\u0e07\", \"\\u0e01\\u0e34\\u0e19\", \"\\u0e40\\u0e19\\u0e37\\u0e49\\u0e2d\", \"\\u0e2d\\u0e23\\u0e48\\u0e2d\\u0e22\", \"\\u0e23\\u0e2a\\u0e0a\\u0e32\\u0e15\\u0e34\", \"\\u0e2d\\u0e32\\u0e2b\\u0e32\\u0e23\", \"\\u0e2a\\u0e32\\u0e02\\u0e32\", \"\\u0e40\\u0e25\\u0e37\\u0e2d\\u0e01\", \"\\u0e0a\\u0e32\\u0e1a\\u0e39\", \"\\u0e14\\u0e35\", \"\\u0e19\\u0e49\\u0e33\", \"1\", \"\\u0e04\\u0e38\\u0e13\\u0e20\\u0e32\\u0e1e\", \"\\u0e0b\\u0e38\\u0e1b\", \"\\u0e25\\u0e39\\u0e01\\u0e0a\\u0e34\\u0e49\\u0e19\", \"\\u0e42\\u0e14\\u0e22\\u0e23\\u0e27\\u0e21\", \"\\u0e23\\u0e32\\u0e04\\u0e32\", \"\\u0e04\\u0e38\\u0e49\\u0e21\", \"\\u0e1a\\u0e32\\u0e17\", \"\\u0e44\\u0e2d\\u0e15\\u0e34\\u0e21\", \"\\u0e15\\u0e31\\u0e01\", \"\\u0e2b\\u0e19\\u0e49\\u0e32\", \"\\u0e1e\\u0e19\\u0e31\\u0e01\\u0e07\\u0e32\\u0e19\", \"\\u0e14\\u0e33\", \"\\u0e19\\u0e49\\u0e33\\u0e08\\u0e34\\u0e49\\u0e21\", \"\\u0e04\\u0e32\\u0e21\\u0e35\", \"\\u0e1a\\u0e4b\\u0e27\\u0e22\", \"\\u0e23\\u0e32\", \"\\u0e2a\\u0e32\\u0e22\", \"\\u0e0b\\u0e36\", \"\\u0e1e\\u0e2d\\u0e19\", \"\\u0e41\\u0e19\\u0e27\", \"\\u0e42\\u0e1b\\u0e23\\u0e42\\u0e21\\u0e0a\\u0e31\\u0e48\\u0e19\", \"\\u0e42\\u0e0b\\u0e19\", \"\\u0e19\\u0e30\\u0e04\\u0e30\", \"\\u0e40\\u0e19\\u0e37\\u0e49\\u0e2d\\u0e2b\\u0e21\\u0e39\", \"\\u0e1f\\u0e40\\u0e1f\\u0e48\", \"\\u0e0d\\u0e35\\u0e48\\u0e1b\\u0e38\\u0e48\\u0e19\", \"\\u0e0a\\u0e2d\\u0e1a\", \"\\u0e2b\\u0e22\\u0e34\\u0e1a\", \"\\u0e1a\\u0e38\", \"\\u0e40\\u0e19\\u0e37\\u0e49\\u0e2d\\u0e27\\u0e31\\u0e27\", \"\\u0e19\\u0e49\\u0e33\\u0e08\\u0e34\\u0e49\\u0e21\", \"\\u0e1e\\u0e19\\u0e31\\u0e01\\u0e07\\u0e32\\u0e19\", \"\\u0e1c\\u0e31\\u0e01\", \"\\u0e25\\u0e2d\\u0e07\", \"\\u0e44\\u0e2d\\u0e15\\u0e34\\u0e21\", \"\\u0e02\\u0e2d\\u0e07\\u0e2b\\u0e27\\u0e32\\u0e19\", \"\\u0e04\\u0e38\\u0e49\\u0e21\", \"\\u0e2a\\u0e31\\u0e48\\u0e07\", \"\\u0e40\\u0e04\\u0e25\\u0e21\", \"\\u0e42\\u0e21\\u0e08\\u0e34\", \"\\u0e41\\u0e1a\\u0e1a\\u0e19\\u0e35\\u0e49\", \"\\u0e41\\u0e1f\\u0e19\", \"\\u0e20\\u0e32\\u0e1e\", \"\\u0e40\\u0e19\\u0e37\\u0e49\\u0e2d\", \"\\u0e40\\u0e25\\u0e37\\u0e2d\\u0e01\", \"\\u0e0a\\u0e32\\u0e1a\\u0e39\", \"\\u0e14\\u0e35\", \"\\u0e2d\\u0e23\\u0e48\\u0e2d\\u0e22\", \"\\u0e04\\u0e32\\u0e21\\u0e35\", \"\\u0e1a\\u0e4b\\u0e27\\u0e22\", \"\\u0e23\\u0e32\", \"\\u0e2a\\u0e32\\u0e22\", \"\\u0e42\\u0e21\\u0e08\\u0e34\", \"\\u0e02\\u0e49\\u0e32\\u0e07\\u0e19\\u0e2d\\u0e01\", \"\\u0e41\\u0e1f\\u0e19\", \"\\u0e08\\u0e33\\u0e01\\u0e31\\u0e14\", \"\\u0e20\\u0e32\\u0e1e\", \"\\u0e40\\u0e04\\u0e25\\u0e21\", \"\\u0e16\\u0e32\\u0e14\", \"\\u0e04\\u0e27\\u0e32\\u0e21\\u0e15\\u0e49\\u0e2d\\u0e07\\u0e01\\u0e32\\u0e23\", \"\\u0e44\\u0e21\\u0e48\\u0e15\\u0e49\\u0e2d\\u0e07\", \"\\u0e40\\u0e15\\u0e49\\u0e32\\u0e40\\u0e08\\u0e35\\u0e49\\u0e22\\u0e27\", \"560\", \"\\u0e1e\\u0e2d\\u0e01\\u0e31\\u0e1a\", \"\\u0e16\\u0e32\\u0e21\", \"\\u0e40\\u0e1c\\u0e47\\u0e14\", \"\\u0e43\\u0e2a\\u0e48\\u0e43\\u0e08\", \"\\u0e41\\u0e1a\\u0e1a\\u0e19\\u0e35\\u0e49\", \"\\u0e2a\\u0e30\\u0e2d\\u0e32\\u0e14\\u0e2a\\u0e30\\u0e2d\\u0e49\\u0e32\\u0e19\", \"\\u0e1a\\u0e31\\u0e15\\u0e23\\u0e40\\u0e04\\u0e23\\u0e14\\u0e34\\u0e15\", \"\\u0e2a\\u0e1a\\u0e32\\u0e22\\u0e14\\u0e35\", \"\\u0e02\\u0e19\\u0e21\", \"\\u0e15\\u0e31\\u0e14\\u0e2a\\u0e34\\u0e19\\u0e43\\u0e08\", \"\\u0e04\\u0e38\\u0e13\\u0e20\\u0e32\\u0e1e\\u0e14\\u0e35\", \"\\u0e40\\u0e2a\\u0e49\\u0e19\", \"\\u0e17\\u0e35\\u0e48\\u0e08\\u0e30\", \"\\u0e44\\u0e14\\u0e49\\u0e01\\u0e25\\u0e34\\u0e48\\u0e19\", \"\\u0e40\\u0e14\\u0e47\\u0e01\", \"\\u0e15\\u0e23\\u0e07\\u0e02\\u0e49\\u0e32\\u0e21\", \"\\u0e25\\u0e32\\u0e19\", \"\\u0e01\\u0e25\\u0e22\\u0e38\\u0e17\\u0e18\\u0e4c\", \"\\u0e40\\u0e1a\\u0e32\", \"\\u0e2d\\u0e34\\u0e2d\\u0e34\", \"\\u0e1a\\u0e23\\u0e34\\u0e40\\u0e27\\u0e13\", \"\\u0e40\\u0e1b\\u0e47\\u0e19\\u0e41\\u0e19\\u0e27\", \"\\u0e2d\\u0e2d\\u0e01\\u0e23\\u0e49\\u0e32\\u0e19\", \"\\u0e1b\\u0e23\\u0e31\\u0e1a\\u0e1b\\u0e23\\u0e38\\u0e07\", \"\\u0e40\\u0e04\\u0e25\\u0e37\\u0e48\\u0e2d\\u0e19\\u0e15\\u0e31\\u0e27\", \"\\u0e22\\u0e2d\\u0e14\", \"\\u0e02\\u0e49\\u0e32\\u0e27\\u0e1b\\u0e31\\u0e49\\u0e19\", \"\\u0e42\\u0e14\", \"\\u0e23\\u0e39\\u0e49\\u0e08\\u0e31\\u0e01\", \"\\u0e02\\u0e19\\u0e32\\u0e14\", \"\\u0e40\\u0e04\\u0e32\\u0e19\\u0e4c\\u0e40\\u0e15\\u0e2d\\u0e23\\u0e4c\", \"\\u0e0a\\u0e2d\\u0e1b\", \"\\u0e42\\u0e2d\\u0e2d\\u0e34\\u0e0a\\u0e34\", \"\\u0e41\\u0e21\\u0e04\", \"\\u0e15\\u0e39\\u0e49\", \"\\u0e2a\\u0e25\\u0e31\\u0e14\", \"\\u0e2a\\u0e1b\\u0e32\", \"^^\", \"\\ud83e\\udd23\", \"\\u0e14\\u0e35\\u0e02\\u0e36\\u0e49\\u0e19\", \"\\u0e02\\u0e49\\u0e19\", \"\\u0e40\\u0e25\\u0e37\\u0e2d\\u0e01\", \"\\u0e2d\\u0e32\\u0e2b\\u0e32\\u0e23\", \"\\u0e14\\u0e35\", \"\\u0e2b\\u0e21\\u0e49\\u0e2d\", \"\\u0e0a\\u0e32\\u0e1a\\u0e39\", \"\\u0e2b\\u0e19\\u0e49\\u0e32\", \"\\u0e2a\\u0e32\\u0e22\\u0e1e\\u0e32\\u0e19\", \"\\u0e19\\u0e49\\u0e33\", \"\\u0e01\\u0e34\\u0e19\", \"\\u0e01\\u0e30\\u0e1b\\u0e34\", \"\\u0e0a\\u0e34\", \"\\u0e2b\\u0e49\\u0e32\\u0e07\", \"\\u0e23\\u0e32\\u0e04\\u0e32\", \"\\u0e14\\u0e33\", \"3\", \"\\u0e2b\\u0e22\\u0e34\\u0e1a\", \"\\u0e17\\u0e32\\u0e19\", \"\\\"\", \"\\u0e04\\u0e19\", \"\\u0e23\\u0e2d\", \"\\u0e40\\u0e19\\u0e37\\u0e49\\u0e2d\", \"\\u0e04\\u0e48\\u0e32\", \"\\u0e2a\\u0e32\\u0e02\\u0e32\", \"\\u0e0a\\u0e37\\u0e48\\u0e2d\", \":\", \"\\u0e04\\u0e34\\u0e27\", \"\\u0e1a\\u0e32\\u0e07\\u0e2a\\u0e48\\u0e27\\u0e19\", \"\\u0e42\\u0e21\", \"\\u0e40\\u0e14\\u0e2d\\u0e30\", \"\\u0e1a\\u0e32\\u0e17\"], \"Freq\": [7.0, 18.0, 6.0, 16.0, 14.0, 7.0, 9.0, 12.0, 4.0, 14.0, 5.0, 5.0, 11.0, 7.0, 6.0, 6.0, 6.0, 13.0, 5.0, 5.0, 15.0, 3.0, 13.0, 7.0, 3.0, 9.0, 12.0, 5.0, 21.0, 15.0, 8.808403491577812, 5.334193588511638, 5.332157949278834, 8.806247790732447, 7.936649643218659, 2.728949346221003, 2.72898368816874, 2.728616472696085, 2.7284766712238007, 2.727968031824637, 3.597559689521529, 5.333156840262625, 1.860835473912962, 1.8607466445442087, 1.8607447516809474, 1.8606855321017786, 1.8606835040339988, 1.8606640345833132, 1.8606498381088548, 1.8605258555652522, 1.8605071973416782, 1.8605569526045418, 1.8605791261456004, 1.8604093092701752, 1.8605353198815577, 1.860408633247582, 1.860367260664875, 1.8602523368240218, 1.8601516094576271, 1.8601023950128384, 4.465746842678679, 9.671302525601497, 3.597306316253578, 12.275915903608109, 8.805924922341909, 3.5965305127255607, 3.595730642793223, 8.80707307911429, 3.595513233927233, 2.7291048314174513, 2.728219512229327, 6.197388990840206, 6.200956226860284, 3.5976554143207338, 4.4662141094951355, 2.729206234806439, 2.7287792589365405, 2.7280759250305198, 8.80788160213582, 7.937946524961556, 6.200378092338534, 6.203713317404608, 6.19897575107109, 5.334476436364655, 5.334500773178012, 3.597585378380073, 4.4636454940498105, 4.465302019812318, 2.420889678364943, 1.6507004382263448, 1.650530120510577, 1.6505288813356036, 1.6504998295667863, 1.6504291965933109, 1.6504110220270365, 1.6503900937385994, 1.6502941265212265, 1.6502533714332173, 4.732502849399838, 4.732419686990522, 4.732316147037202, 2.4206751634084624, 0.8803453551704928, 0.8803453551704928, 0.8803453551704928, 0.8803453551704928, 0.8803453551704928, 0.8803453551704928, 0.8803453551704928, 0.8803453551704928, 0.8803453551704928, 0.8803453551704928, 0.8803453551704928, 0.8803453551704928, 0.8803453551704928, 0.8803453551704928, 0.8803453551704928, 0.8803453551704928, 2.4209477819025778, 3.9613042324024725, 2.4206335822038048, 7.812743211676494, 4.7321057626639655, 3.191004154946822, 4.730778468581505, 3.961416308894498, 2.4209323610584663, 4.73116949712862, 4.732112371597156, 2.420808443561141, 3.9603632855394504, 2.4211606446257607, 2.4208621411433153, 1.6501323453441632, 3.190963399858813, 3.1912302355363864, 3.191489360791904, 3.190787987757044, 3.190744478946872, 1.6508020505741514, 1.6507385772782992, 1.6505591722793942, 3.066373849312181, 2.326315048557653, 2.3262898145569446, 2.326215514443748, 1.5860382540747837, 1.5860362680654687, 2.3262979922423592, 1.5861512229575843, 0.8459293942031098, 0.8459284011984523, 0.8459295694392257, 0.8459302703836898, 0.8459304456198059, 0.8459262399530212, 0.8459280507262201, 0.8459255974205957, 0.8459262399530212, 0.8459261231289438, 0.8459261231289438, 0.8459207492213856, 0.8459247796520543, 0.8459213333417723, 0.8459214501658496, 0.8459186463879932, 0.8459181790916838, 0.8459211581056563, 0.8459207492213856, 0.8459130388322802, 0.8459128051841256, 0.8459131556563576, 3.0663710455343245, 3.0664635702035885, 2.3263071045203927, 3.808350667768695, 2.326573697064913, 7.508862431621522, 2.3261807008686968, 3.8091791841252842, 3.806927049562068, 1.5860666423255805, 2.3268194949236642, 3.80779341691972, 3.068111023342424, 3.067775270944111, 3.0665974505962352, 3.0678727022246233, 1.5866333559248211, 1.5865514622465966, 3.0687187421928157, 2.327600113408539, 1.5860994698913167, 2.327238659713208, 1.586878336015031, 1.5863334685182553, 1.5862115041814986, 1.5862092845240288, 1.3350171471443721, 1.3349875558150295, 1.3348187906536182, 0.7120309580520376, 0.7120298095301225, 0.7120115007395931, 0.7120288636885453, 0.712006028370468, 0.7120106224581285, 0.7120112304991424, 0.7120166353081548, 0.7120023801243847, 0.7120078524935097, 0.7120142031440992, 0.7120090685755375, 0.7119888681018538, 0.7120037988867505, 0.712000961362019, 0.7119808284484479, 0.7119880573805019, 0.7119877195799387, 0.7119917731866979, 0.7119794772461948, 0.7119544800045126, 0.7119206999481852, 0.7119140114970325, 0.7119336039297023, 0.7119113090925262, 0.7119048233217115, 0.7119077284065556, 1.9576265534884318, 1.957554534408342, 1.335089166224462, 1.3349108075270537, 2.5811351849319246, 1.3350618719389495, 1.3347401506824883, 1.334782848673686, 1.3348528409503961, 1.9574163064178507, 1.334693399084531, 1.3348956740618192, 1.3350851126177028, 1.3351618609056783, 1.3350801131693664, 0.7125331999295121, 0.7124515873134253, 0.7122530281423334, 0.7121426349182557, 0.7121201374007418, 0.7121085846214777, 0.7120912216725255, 0.7120593332993526, 0.7120548067718047, 0.7120500775639188, 0.7120419027902877, 0.712033998257107, 6.883060178477389, 1.2146378225760455, 1.214608558810547, 0.6478158893931837, 0.6478121912250162, 0.6478116552586152, 0.6478105833258131, 0.6478098865694917, 0.6478103153426125, 0.6478078498971676, 0.6478083322669286, 0.6478076355106072, 0.6478066707710852, 0.6478053844517226, 0.6478053844517226, 0.6478046876954012, 0.647802061460036, 0.6478020078633959, 0.6477894126529707, 0.6477876975604874, 0.6477965946027451, 0.6477947723169815, 0.6477895734428911, 0.6477871615940863, 0.6477868936108857, 0.647774995156782, 0.6477736552407793, 0.6477690459297302, 0.6477621319631564, 0.6477614352068349, 1.2146212076176122, 2.348320278522646, 1.2146500426099898, 3.486283498114592, 2.3504559974376296, 2.348852171579068, 1.782725976381435, 1.7831954829487722, 1.216272734485869, 1.215315391300278, 1.2155600063657264, 1.2171174175339552, 1.2158812646265276, 0.649195681296098, 0.6487659434357201, 0.6486909081395703, 0.6486532297015751, 0.648639080188587, 0.6485813030105516, 0.6484666597973627, 0.648383102635436, 0.648371632954453, 0.648308013742646, 0.6482420362786743, 0.6481756836382219, 0.6480736356354582, 0.6480513930298137, 0.30004617483134405, 0.30004614576539396, 0.3000461166994439, 0.30004605856754374, 0.30004617483134405, 0.3000461166994439, 0.30004634922704443, 0.30004617483134405, 0.3000593417067236, 0.30006407945658425, 0.3000464364248946, 0.3000461166994439, 0.3000462910951443, 0.5626014014433034, 0.3000618704443793, 0.30006294588453175, 0.3000464945567947, 0.30005201708730717, 0.30006126005942796, 0.30004605856754374, 0.30006503863293643, 0.3000610275318274, 0.3000579174751704, 0.3000742816050572, 0.3000492267561009, 0.03751008814750271, 0.03750931063333846, 0.037509121704663036, 0.03750907083925042, 0.037508914609768816, 0.30009907486046294, 0.30008573358938295, 0.3001068064031803, 0.3001463360952692, 0.30008012386102034, 0.0005739380628877433, 0.0005739380628877433, 0.00057393802178095, 0.0005739380628877433, 0.00057393802178095, 0.00057393802178095, 0.00057393802178095, 0.00057393802178095, 0.00057393802178095, 0.0005739380628877433, 0.00057393802178095, 0.00057393802178095, 0.00057393802178095, 0.00057393802178095, 0.00057393802178095, 0.00057393802178095, 0.00057393802178095, 0.00057393802178095, 0.00057393802178095, 0.0005739380628877433, 0.00057393802178095, 0.0005739380628877433, 0.0005739380628877433, 0.0005739380628877433, 0.00057393802178095, 0.0005739380628877433, 0.0005739380628877433, 0.00057393802178095, 0.0005739380628877433, 0.0005739380628877433, 0.0005747083219803361, 0.0005746964832238697, 0.0005746918381562285, 0.0005746807393220412, 0.000574646497363234, 0.0005746446886643294, 0.0005746411945869001, 0.0005746348230339408, 0.0005746236830929603, 0.0005746209700446034, 0.00057461229651122, 0.0005746113921617677, 0.0005746069526280929, 0.000574603088589524, 0.0005746008688226865, 0.0005746001289004074, 0.0005745805620668032, 0.0005745737794459111, 0.0005745703675820683, 0.0005745672845725719, 0.0005745621051166179, 0.0005745527327677487, 0.0005745335770020774, 0.0005745333303613176, 0.0005745332892545244, 0.0005745190251972541, 0.0005767708964402538, 0.0005765899854430022, 0.0005760971149915032, 0.0005758763304047642, 0.0005758632173377059, 0.0005757277293470353, 0.0005756470367118149, 0.0005756282098004899, 0.0005756205228301455, 0.0005755293890694304, 0.0005754740182188742, 0.0005753515199748819, 0.0005753416543444933, 0.0005753310076850323, 0.0005753240606369669, 0.0005752834471252004, 0.0005752340778664639, 0.0005752177173627361, 0.0005752147165668262, 0.0005751829410156162, 0.0005750973155652015, 0.0005750576886164738, 0.0005750553455292565, 0.0005750478229860851, 0.0005750265707739563, 0.0005750186782696454, 0.0005750185549492655, 0.0005750101691634351, 0.0005749912600385235, 0.000574935683654001], \"Total\": [7.0, 18.0, 6.0, 16.0, 14.0, 7.0, 9.0, 12.0, 4.0, 14.0, 5.0, 5.0, 11.0, 7.0, 6.0, 6.0, 6.0, 13.0, 5.0, 5.0, 15.0, 3.0, 13.0, 7.0, 3.0, 9.0, 12.0, 5.0, 21.0, 15.0, 9.233242706951458, 5.7587866923610695, 5.758158392352779, 9.972429220819157, 9.133665189577652, 3.1533561215953143, 3.1534077764589714, 3.153246045416586, 3.1531314945580347, 3.152949884517985, 4.2845096787077965, 6.498795006371996, 2.284881481802968, 2.2848599329249635, 2.28489689870574, 2.284904728696591, 2.2849049389106533, 2.2848854142138393, 2.284895987809828, 2.284779719254905, 2.284779781142669, 2.284855926043302, 2.2849017577410597, 2.2847401968142353, 2.2849034630939995, 2.2847742130999005, 2.2848118945392426, 2.2846919284433254, 2.2846518191054916, 2.284627036655989, 5.513272969138569, 13.180920483870691, 4.644780363574432, 18.20968219416169, 12.933898801439687, 4.761759304860888, 4.791495510084225, 16.857519628224352, 5.358347149886801, 3.7763921842728227, 3.776137052338578, 11.247548573758584, 12.08881367727144, 5.677814736679327, 7.883624209245895, 3.9236664513844124, 3.9235775762356546, 3.9233411541252745, 21.473262094939606, 20.27454009639896, 14.341385898034154, 14.364394587911638, 15.310638152702651, 13.76133392942921, 14.414500559073606, 7.103251075562339, 13.644203987278404, 15.115339630609656, 2.8589523324537285, 2.0886130843117297, 2.088592849572217, 2.088599506230898, 2.0885709748533237, 2.08855441700194, 2.088568256167784, 2.0885428807139323, 2.0885559873429935, 2.0885445801666167, 6.0377772052553516, 6.037805543105478, 6.037866665186933, 3.4257629394750553, 1.3182579497845808, 1.3182579497845808, 1.3182579497845808, 1.3182579497845808, 1.3182579497845808, 1.3182579497845808, 1.3182579497845808, 1.3182579497845808, 1.3182579497845808, 1.3182579497845808, 1.3182579497845808, 1.3182579497845808, 1.3182579498256877, 1.3182579534178245, 1.3182579570860857, 1.318257968567687, 4.350226490810145, 7.83423511514891, 4.595969757481718, 20.27454009639896, 11.247548573758584, 7.103251075562339, 11.926071901464104, 10.369702732386289, 5.335987059018171, 14.414500559073606, 15.115339630609656, 5.958877428786823, 13.76133392942921, 6.60141140671443, 6.710328174456287, 3.6972390060083935, 13.180920483870691, 13.644203987278404, 14.341385898034154, 15.310638152702651, 21.473262094939606, 7.883624209245895, 6.00112091079305, 4.565481404071038, 3.508888392072576, 2.7686279715110684, 2.768629786244979, 2.768603248348058, 2.028348823040249, 2.0283763101400125, 3.0311478779513648, 2.2909565295801455, 1.28815736250179, 1.2881558681100587, 1.2881590863846861, 1.288160637228959, 1.288161082951777, 1.2881549441022933, 1.2881578019132494, 1.2881544827706073, 1.2881556636258198, 1.2881564503649903, 1.2881573519735585, 1.2881517542705392, 1.2881585970204663, 1.2881534362456581, 1.2881538998418947, 1.2881504582182082, 1.2881514463209354, 1.2881568065168454, 1.2881595119591462, 1.2881486513092608, 1.2881502616884513, 1.2881508055771151, 4.698814551251675, 5.049370252718842, 3.8995488279394652, 6.756032663397897, 4.406979767309392, 21.473262094939606, 5.334940628425088, 12.933898801439687, 14.364394587911638, 3.519869192357645, 7.029985081520792, 16.857519628224352, 11.926071901464104, 13.76133392942921, 15.115339630609656, 15.310638152702651, 4.437446248106447, 4.437477781252097, 20.27454009639896, 12.08881367727144, 5.463218785371029, 14.414500559073606, 13.644203987278404, 14.341385898034154, 5.823696084291155, 18.20968219416169, 1.794051141679801, 1.794052468986607, 1.7940611251274958, 1.1710184913274333, 1.1710188562223172, 1.1709947604212567, 1.1710260230748515, 1.1709974162676875, 1.1710062767691285, 1.1710074462243396, 1.171017979862479, 1.1709975794033896, 1.171009776724961, 1.1710214289139238, 1.1710143983268917, 1.1709812868111258, 1.17100752000069, 1.1710037865566878, 1.1709801088202836, 1.1709924853528793, 1.17099742120127, 1.171006559655697, 1.1709874391029487, 1.1709804248799263, 1.1710054800929226, 1.17099556560996, 1.171031769780994, 1.1709965200620869, 1.1709956767711747, 1.1710019052180751, 4.025742073360882, 4.720903105319826, 3.5306793566259893, 3.793527689365095, 13.644203987278404, 3.9991588795681907, 4.173027883506802, 4.399279358759698, 5.1696077197206955, 14.364394587911638, 6.710328174456287, 14.414500559073606, 15.115339630609656, 15.310638152702651, 20.27454009639896, 18.20968219416169, 16.857519628224352, 5.847597004454966, 5.375970201389621, 10.369702732386289, 5.677814736679327, 3.776137052338578, 5.958877428786823, 14.341385898034154, 1.9413315669557802, 2.3047608598948086, 1.911199181179749, 7.350499286356694, 1.6817043479898137, 1.681742831523064, 1.1148207917121526, 1.1148214985076421, 1.114821096476382, 1.1148208220015896, 1.1148204110929985, 1.1148216026847695, 1.1148206109755514, 1.1148217995035814, 1.1148211841435836, 1.114821374997136, 1.114820123909675, 1.1148206568376546, 1.1148205385615189, 1.1148211278190154, 1.1148226168342525, 1.1148220017734334, 1.114820737977931, 1.1148363371966428, 1.1148369848158117, 1.1148389368535951, 1.1148396933635145, 1.1148398813515545, 1.1148440907078587, 1.1148444820518266, 1.1148461752741257, 1.114848687994189, 1.114848908380472, 2.3047608598948086, 5.847597004454966, 2.550161047160174, 18.20968219416169, 14.341385898034154, 16.857519628224352, 12.08881367727144, 13.644203987278404, 10.369702732386289, 14.364394587911638, 15.115339630609656, 15.310638152702651, 21.473262094939606, 5.358347149886801, 3.9991588795681907, 13.76133392942921, 1.9827855413090143, 1.9827815914769489, 14.414500559073606, 7.83423511514891, 11.926071901464104, 6.116202198904617, 2.8515172784523926, 4.720903105319826, 5.375970201389621, 5.823696084291155, 5.334940628425088, 0.8105023756521577, 0.8105024395393141, 0.8105024526836693, 0.8105025466979594, 1.5506652583936802, 1.550668675900577, 1.6789053263616727, 2.2909565295801455, 2.448973358940359, 2.5471914232235817, 2.547428319604261, 3.0311478779513648, 3.1893548575782282, 6.60141140671443, 3.793527689365095, 3.8995488279394652, 4.2845096787077965, 5.334940628425088, 5.375970201389621, 5.463218785371029, 5.677814736679327, 6.116202198904617, 7.029985081520792, 7.83423511514891, 7.883624209245895, 1.114820737977931, 1.114820123909675, 1.1148220017734334, 1.1148205385615189, 1.1148206568376546, 14.341385898034154, 14.364394587911638, 15.115339630609656, 15.310638152702651, 16.857519628224352, 0.8105023756521577, 0.8105024395393141, 0.8105024526836693, 0.8105025466979594, 1.114820123909675, 1.1148204110929985, 1.1148205385615189, 1.1148206109755514, 1.1148206568376546, 1.114820737977931, 1.1148207917121526, 1.1148208220015896, 1.114821096476382, 1.1148211278190154, 1.1148211841435836, 1.114821374997136, 1.1148214985076421, 1.1148216026847695, 1.1148217995035814, 1.1148220017734334, 1.1148226168342525, 1.1148363371966428, 1.1148369848158117, 1.1148389368535951, 1.1148396933635145, 1.1148398813515545, 1.1148440907078587, 1.1148444820518266, 1.1148461752741257, 1.114848687994189, 1.1709673720683877, 1.1709690542016877, 1.1709691834769647, 1.17096700124971, 1.1709779619740932, 1.1709742096649869, 1.170987648425875, 1.1709836522864643, 1.1709807463789197, 1.1709821249481953, 1.1709854033735225, 1.170984577132788, 1.1709831758422837, 1.1709804248799263, 1.1709831108705413, 1.170987952662932, 1.1709863429112037, 1.1709913001530032, 1.1709903070504502, 1.1709801088202836, 1.1709883952290552, 1.1709812868111258, 1.170997388141456, 1.1709874391029487, 1.1709958060930135, 1.1709965200620869, 14.364394587911638, 13.644203987278404, 15.310638152702651, 4.025742073360882, 15.115339630609656, 4.720903105319826, 5.1696077197206955, 21.473262094939606, 18.20968219416169, 4.418118792252092, 6.710328174456287, 4.399279358759698, 14.414500559073606, 5.823696084291155, 4.173027883506802, 3.793527689365095, 20.27454009639896, 3.5306793566259893, 9.972429220819157, 5.513272969138569, 14.341385898034154, 1.7940611251274958, 10.369702732386289, 1.794052468986607, 12.933898801439687, 4.644780363574432, 1.794051141679801, 5.049370252718842, 5.286818754396779, 11.926071901464104], \"Category\": [\"Default\", \"Default\", \"Default\", \"Default\", \"Default\", \"Default\", \"Default\", \"Default\", \"Default\", \"Default\", \"Default\", \"Default\", \"Default\", \"Default\", \"Default\", \"Default\", \"Default\", \"Default\", \"Default\", \"Default\", \"Default\", \"Default\", \"Default\", \"Default\", \"Default\", \"Default\", \"Default\", \"Default\", \"Default\", \"Default\", \"Topic1\", \"Topic1\", \"Topic1\", \"Topic1\", \"Topic1\", \"Topic1\", \"Topic1\", \"Topic1\", \"Topic1\", \"Topic1\", \"Topic1\", \"Topic1\", \"Topic1\", \"Topic1\", \"Topic1\", \"Topic1\", \"Topic1\", \"Topic1\", \"Topic1\", \"Topic1\", \"Topic1\", \"Topic1\", \"Topic1\", \"Topic1\", \"Topic1\", \"Topic1\", \"Topic1\", \"Topic1\", \"Topic1\", \"Topic1\", \"Topic1\", \"Topic1\", \"Topic1\", \"Topic1\", \"Topic1\", \"Topic1\", \"Topic1\", \"Topic1\", \"Topic1\", \"Topic1\", \"Topic1\", \"Topic1\", \"Topic1\", \"Topic1\", \"Topic1\", \"Topic1\", \"Topic1\", \"Topic1\", \"Topic1\", \"Topic1\", \"Topic1\", \"Topic1\", \"Topic1\", \"Topic1\", \"Topic1\", \"Topic1\", \"Topic1\", \"Topic1\", \"Topic2\", \"Topic2\", \"Topic2\", \"Topic2\", \"Topic2\", \"Topic2\", \"Topic2\", \"Topic2\", \"Topic2\", \"Topic2\", \"Topic2\", \"Topic2\", \"Topic2\", \"Topic2\", \"Topic2\", \"Topic2\", \"Topic2\", \"Topic2\", \"Topic2\", \"Topic2\", \"Topic2\", \"Topic2\", \"Topic2\", \"Topic2\", \"Topic2\", \"Topic2\", \"Topic2\", \"Topic2\", \"Topic2\", \"Topic2\", \"Topic2\", \"Topic2\", \"Topic2\", \"Topic2\", \"Topic2\", \"Topic2\", \"Topic2\", \"Topic2\", \"Topic2\", \"Topic2\", \"Topic2\", \"Topic2\", \"Topic2\", \"Topic2\", \"Topic2\", \"Topic2\", \"Topic2\", \"Topic2\", \"Topic2\", \"Topic2\", \"Topic2\", \"Topic2\", \"Topic2\", \"Topic2\", \"Topic3\", \"Topic3\", \"Topic3\", \"Topic3\", \"Topic3\", \"Topic3\", \"Topic3\", \"Topic3\", \"Topic3\", \"Topic3\", \"Topic3\", \"Topic3\", \"Topic3\", \"Topic3\", \"Topic3\", \"Topic3\", \"Topic3\", \"Topic3\", \"Topic3\", \"Topic3\", \"Topic3\", \"Topic3\", \"Topic3\", \"Topic3\", \"Topic3\", \"Topic3\", \"Topic3\", \"Topic3\", \"Topic3\", \"Topic3\", \"Topic3\", \"Topic3\", \"Topic3\", \"Topic3\", \"Topic3\", \"Topic3\", \"Topic3\", \"Topic3\", \"Topic3\", \"Topic3\", \"Topic3\", \"Topic3\", \"Topic3\", \"Topic3\", \"Topic3\", \"Topic3\", \"Topic3\", \"Topic3\", \"Topic3\", \"Topic3\", \"Topic3\", \"Topic3\", \"Topic3\", \"Topic3\", \"Topic3\", \"Topic3\", \"Topic4\", \"Topic4\", \"Topic4\", \"Topic4\", \"Topic4\", \"Topic4\", \"Topic4\", \"Topic4\", \"Topic4\", \"Topic4\", \"Topic4\", \"Topic4\", \"Topic4\", \"Topic4\", \"Topic4\", \"Topic4\", \"Topic4\", \"Topic4\", \"Topic4\", \"Topic4\", \"Topic4\", \"Topic4\", \"Topic4\", \"Topic4\", \"Topic4\", \"Topic4\", \"Topic4\", \"Topic4\", \"Topic4\", \"Topic4\", \"Topic4\", \"Topic4\", \"Topic4\", \"Topic4\", \"Topic4\", \"Topic4\", \"Topic4\", \"Topic4\", \"Topic4\", \"Topic4\", \"Topic4\", \"Topic4\", \"Topic4\", \"Topic4\", \"Topic4\", \"Topic4\", \"Topic4\", \"Topic4\", \"Topic4\", \"Topic4\", \"Topic4\", \"Topic4\", \"Topic4\", \"Topic4\", \"Topic4\", \"Topic4\", \"Topic4\", \"Topic5\", \"Topic5\", \"Topic5\", \"Topic5\", \"Topic5\", \"Topic5\", \"Topic5\", \"Topic5\", \"Topic5\", \"Topic5\", \"Topic5\", \"Topic5\", \"Topic5\", \"Topic5\", \"Topic5\", \"Topic5\", \"Topic5\", \"Topic5\", \"Topic5\", \"Topic5\", \"Topic5\", \"Topic5\", \"Topic5\", \"Topic5\", \"Topic5\", \"Topic5\", \"Topic5\", \"Topic5\", \"Topic5\", \"Topic5\", \"Topic5\", \"Topic5\", \"Topic5\", \"Topic5\", \"Topic5\", \"Topic5\", \"Topic5\", \"Topic5\", \"Topic5\", \"Topic5\", \"Topic5\", \"Topic5\", \"Topic5\", \"Topic5\", \"Topic5\", \"Topic5\", \"Topic5\", \"Topic5\", \"Topic5\", \"Topic5\", \"Topic5\", \"Topic5\", \"Topic5\", \"Topic5\", \"Topic5\", \"Topic5\", \"Topic5\", \"Topic6\", \"Topic6\", \"Topic6\", \"Topic6\", \"Topic6\", \"Topic6\", \"Topic6\", \"Topic6\", \"Topic6\", \"Topic6\", \"Topic6\", \"Topic6\", \"Topic6\", \"Topic6\", \"Topic6\", \"Topic6\", \"Topic6\", \"Topic6\", \"Topic6\", \"Topic6\", \"Topic6\", \"Topic6\", \"Topic6\", \"Topic6\", \"Topic6\", \"Topic6\", \"Topic6\", \"Topic6\", \"Topic6\", \"Topic6\", \"Topic6\", \"Topic6\", \"Topic6\", \"Topic6\", \"Topic6\", \"Topic7\", \"Topic7\", \"Topic7\", \"Topic7\", \"Topic7\", \"Topic7\", \"Topic7\", \"Topic7\", \"Topic7\", \"Topic7\", \"Topic7\", \"Topic7\", \"Topic7\", \"Topic7\", \"Topic7\", \"Topic7\", \"Topic7\", \"Topic7\", \"Topic7\", \"Topic7\", \"Topic7\", \"Topic7\", \"Topic7\", \"Topic7\", \"Topic7\", \"Topic7\", \"Topic7\", \"Topic7\", \"Topic7\", \"Topic7\", \"Topic7\", \"Topic7\", \"Topic7\", \"Topic7\", \"Topic7\", \"Topic7\", \"Topic7\", \"Topic7\", \"Topic7\", \"Topic7\", \"Topic7\", \"Topic7\", \"Topic7\", \"Topic7\", \"Topic7\", \"Topic7\", \"Topic7\", \"Topic7\", \"Topic7\", \"Topic7\", \"Topic7\", \"Topic7\", \"Topic7\", \"Topic7\", \"Topic7\", \"Topic7\", \"Topic7\", \"Topic7\", \"Topic7\", \"Topic7\", \"Topic7\", \"Topic7\", \"Topic7\", \"Topic7\", \"Topic7\", \"Topic7\", \"Topic7\", \"Topic7\", \"Topic7\", \"Topic7\", \"Topic7\", \"Topic7\", \"Topic7\", \"Topic7\", \"Topic7\", \"Topic7\", \"Topic7\", \"Topic7\", \"Topic7\", \"Topic7\", \"Topic7\", \"Topic7\", \"Topic7\", \"Topic7\", \"Topic7\", \"Topic7\"], \"logprob\": [30.0, 29.0, 28.0, 27.0, 26.0, 25.0, 24.0, 23.0, 22.0, 21.0, 20.0, 19.0, 18.0, 17.0, 16.0, 15.0, 14.0, 13.0, 12.0, 11.0, 10.0, 9.0, 8.0, 7.0, 6.0, 5.0, 4.0, 3.0, 2.0, 1.0, -4.1885, -4.6901, -4.6905, -4.1888, -4.2927, -5.3603, -5.3603, -5.3604, -5.3605, -5.3607, -5.084, -4.6903, -5.7432, -5.7433, -5.7433, -5.7433, -5.7433, -5.7433, -5.7433, -5.7434, -5.7434, -5.7434, -5.7433, -5.7434, -5.7434, -5.7434, -5.7435, -5.7435, -5.7436, -5.7436, -4.8678, -4.0951, -5.084, -3.8566, -4.1888, -5.0843, -5.0845, -4.1887, -5.0845, -5.3603, -5.3606, -4.5401, -4.5395, -5.084, -4.8677, -5.3602, -5.3604, -5.3606, -4.1886, -4.2926, -4.5396, -4.5391, -4.5398, -4.69, -4.69, -5.084, -4.8683, -4.8679, -4.8051, -5.1881, -5.1882, -5.1882, -5.1882, -5.1882, -5.1882, -5.1883, -5.1883, -5.1883, -4.1348, -4.1348, -4.1349, -4.8052, -5.8167, -5.8167, -5.8167, -5.8167, -5.8167, -5.8167, -5.8167, -5.8167, -5.8167, -5.8167, -5.8167, -5.8167, -5.8167, -5.8167, -5.8167, -5.8167, -4.8051, -4.3127, -4.8052, -3.6335, -4.1349, -4.5289, -4.1352, -4.3127, -4.8051, -4.1351, -4.1349, -4.8052, -4.3129, -4.805, -4.8051, -5.1884, -4.529, -4.5289, -4.5288, -4.529, -4.529, -5.188, -5.1881, -5.1882, -4.4045, -4.6807, -4.6807, -4.6807, -5.0637, -5.0637, -4.6807, -5.0637, -5.6923, -5.6923, -5.6923, -5.6923, -5.6923, -5.6923, -5.6923, -5.6923, -5.6923, -5.6923, -5.6923, -5.6923, -5.6923, -5.6923, -5.6923, -5.6923, -5.6923, -5.6923, -5.6923, -5.6923, -5.6923, -5.6923, -4.4045, -4.4044, -4.6807, -4.1878, -4.6806, -3.5089, -4.6807, -4.1876, -4.1881, -5.0637, -4.6805, -4.1879, -4.4039, -4.404, -4.4044, -4.404, -5.0634, -5.0634, -4.4037, -4.6801, -5.0637, -4.6803, -5.0632, -5.0635, -5.0636, -5.0636, -4.6884, -4.6884, -4.6885, -5.3169, -5.317, -5.317, -5.317, -5.317, -5.317, -5.317, -5.317, -5.317, -5.317, -5.317, -5.317, -5.317, -5.317, -5.317, -5.317, -5.317, -5.317, -5.317, -5.317, -5.3171, -5.3171, -5.3171, -5.3171, -5.3171, -5.3171, -5.3171, -4.3056, -4.3056, -4.6883, -4.6885, -4.0291, -4.6883, -4.6886, -4.6885, -4.6885, -4.3057, -4.6886, -4.6885, -4.6883, -4.6883, -4.6883, -5.3162, -5.3164, -5.3166, -5.3168, -5.3168, -5.3168, -5.3169, -5.3169, -5.3169, -5.3169, -5.3169, -5.3169, -2.8167, -4.5513, -4.5514, -5.1799, -5.1799, -5.1799, -5.1799, -5.1799, -5.1799, -5.1799, -5.1799, -5.1799, -5.1799, -5.1799, -5.1799, -5.1799, -5.18, -5.18, -5.18, -5.18, -5.18, -5.18, -5.18, -5.18, -5.18, -5.18, -5.18, -5.18, -5.18, -5.18, -4.5514, -3.8921, -4.5513, -3.4969, -3.8912, -3.8919, -4.1676, -4.1674, -4.55, -4.5508, -4.5506, -4.5493, -4.5503, -5.1778, -5.1785, -5.1786, -5.1786, -5.1787, -5.1788, -5.1789, -5.1791, -5.1791, -5.1792, -5.1793, -5.1794, -5.1795, -5.1796, -4.6445, -4.6445, -4.6445, -4.6445, -4.6445, -4.6445, -4.6445, -4.6445, -4.6445, -4.6445, -4.6445, -4.6445, -4.6445, -4.0159, -4.6445, -4.6445, -4.6445, -4.6445, -4.6445, -4.6445, -4.6445, -4.6445, -4.6445, -4.6444, -4.6445, -6.7239, -6.7239, -6.7239, -6.7239, -6.7239, -4.6444, -4.6444, -4.6443, -4.6442, -4.6444, -6.422, -6.422, -6.422, -6.422, -6.422, -6.422, -6.422, -6.422, -6.422, -6.422, -6.422, -6.422, -6.422, -6.422, -6.422, -6.422, -6.422, -6.422, -6.422, -6.422, -6.422, -6.422, -6.422, -6.422, -6.422, -6.422, -6.422, -6.422, -6.422, -6.422, -6.4207, -6.4207, -6.4207, -6.4207, -6.4208, -6.4208, -6.4208, -6.4208, -6.4208, -6.4208, -6.4208, -6.4208, -6.4208, -6.4208, -6.4208, -6.4208, -6.4209, -6.4209, -6.4209, -6.4209, -6.4209, -6.4209, -6.421, -6.421, -6.421, -6.421, -6.4171, -6.4174, -6.4182, -6.4186, -6.4186, -6.4189, -6.419, -6.4191, -6.4191, -6.4192, -6.4193, -6.4195, -6.4196, -6.4196, -6.4196, -6.4197, -6.4197, -6.4198, -6.4198, -6.4198, -6.42, -6.42, -6.4201, -6.4201, -6.4201, -6.4201, -6.4201, -6.4201, -6.4202, -6.4203], \"loglift\": [30.0, 29.0, 28.0, 27.0, 26.0, 25.0, 24.0, 23.0, 22.0, 21.0, 20.0, 19.0, 18.0, 17.0, 16.0, 15.0, 14.0, 13.0, 12.0, 11.0, 10.0, 9.0, 8.0, 7.0, 6.0, 5.0, 4.0, 3.0, 2.0, 1.0, 0.8464, 0.8169, 0.8166, 0.7691, 0.753, 0.7489, 0.7489, 0.7488, 0.7488, 0.7487, 0.7187, 0.6958, 0.6882, 0.6881, 0.6881, 0.6881, 0.6881, 0.6881, 0.6881, 0.6881, 0.6881, 0.688, 0.688, 0.688, 0.688, 0.688, 0.688, 0.688, 0.6879, 0.6879, 0.6828, 0.5839, 0.6379, 0.4992, 0.509, 0.6128, 0.6064, 0.2442, 0.4945, 0.5687, 0.5684, 0.2975, 0.2259, 0.4372, 0.3252, 0.5305, 0.5303, 0.5301, 0.0023, -0.0442, 0.0549, 0.0539, -0.0107, -0.0542, -0.1006, 0.2132, -0.2239, -0.3259, 1.4021, 1.3331, 1.333, 1.333, 1.333, 1.333, 1.333, 1.333, 1.3329, 1.3329, 1.3249, 1.3248, 1.3248, 1.2212, 1.1647, 1.1647, 1.1647, 1.1647, 1.1647, 1.1647, 1.1647, 1.1647, 1.1647, 1.1647, 1.1647, 1.1647, 1.1647, 1.1647, 1.1647, 1.1647, 0.9824, 0.8865, 0.9273, 0.6148, 0.7027, 0.7682, 0.6438, 0.6061, 0.7781, 0.4544, 0.4071, 0.6677, 0.3229, 0.5654, 0.5489, 0.7617, 0.15, 0.1155, 0.0658, 0.0002, -0.3381, 0.0049, 0.2777, 0.551, 1.5979, 1.5587, 1.5587, 1.5586, 1.4868, 1.4867, 1.4681, 1.3651, 1.3122, 1.3122, 1.3122, 1.3122, 1.3122, 1.3122, 1.3122, 1.3122, 1.3122, 1.3122, 1.3122, 1.3122, 1.3122, 1.3122, 1.3122, 1.3122, 1.3122, 1.3122, 1.3122, 1.3122, 1.3122, 1.3122, 1.3059, 1.234, 1.2162, 1.1595, 1.0939, 0.682, 0.9027, 0.5103, 0.4048, 0.9356, 0.6271, 0.245, 0.3751, 0.2318, 0.1376, 0.1252, 0.7043, 0.7042, -0.1554, 0.0853, 0.496, -0.0908, -0.4188, -0.469, 0.4322, -0.7079, 1.9849, 1.9848, 1.9847, 1.7829, 1.7829, 1.7829, 1.7829, 1.7829, 1.7829, 1.7829, 1.7829, 1.7829, 1.7829, 1.7829, 1.7829, 1.7829, 1.7829, 1.7829, 1.7828, 1.7828, 1.7828, 1.7828, 1.7828, 1.7828, 1.7827, 1.7827, 1.7827, 1.7827, 1.7827, 1.7827, 1.5594, 1.4001, 1.3079, 1.236, 0.6153, 1.1833, 1.1405, 1.0877, 0.9264, 0.2873, 0.6654, -0.099, -0.1463, -0.1591, -0.44, -0.9605, -0.8834, 0.175, 0.259, -0.398, 0.2043, 0.6121, 0.1559, -0.7224, 1.2774, 1.1058, 1.293, 2.4462, 2.1866, 2.1865, 1.9691, 1.9691, 1.9691, 1.9691, 1.9691, 1.9691, 1.9691, 1.9691, 1.9691, 1.9691, 1.9691, 1.9691, 1.9691, 1.9691, 1.9691, 1.969, 1.969, 1.969, 1.969, 1.969, 1.969, 1.969, 1.969, 1.969, 1.969, 1.969, 1.969, 1.8714, 1.5996, 1.7702, 0.8588, 0.7034, 0.5411, 0.5978, 0.477, 0.3688, 0.0422, -0.0086, -0.0201, -0.3594, 0.4012, 0.6932, -0.5427, 1.3946, 1.3945, -0.5893, 0.0203, -0.4001, 0.2677, 1.0307, 0.5264, 0.3964, 0.3162, 0.4039, 2.8233, 2.8233, 2.8233, 2.8233, 2.1745, 2.1745, 2.095, 1.7842, 1.7175, 1.6782, 1.6781, 1.5042, 1.4534, 1.3545, 1.2799, 1.2524, 1.1582, 0.9389, 0.9313, 0.9151, 0.8767, 0.8023, 0.663, 0.5548, 0.5484, 0.4252, 0.4251, 0.4251, 0.4251, 0.4251, -0.0498, -0.0514, -0.1023, -0.115, -0.2115, 1.0458, 1.0458, 1.0458, 1.0458, 0.727, 0.727, 0.727, 0.727, 0.727, 0.727, 0.727, 0.727, 0.727, 0.727, 0.727, 0.727, 0.727, 0.727, 0.727, 0.727, 0.727, 0.727, 0.727, 0.727, 0.727, 0.727, 0.727, 0.727, 0.727, 0.727, 0.6792, 0.6792, 0.6792, 0.6792, 0.6791, 0.6791, 0.6791, 0.6791, 0.6791, 0.6791, 0.679, 0.679, 0.679, 0.679, 0.679, 0.679, 0.679, 0.679, 0.679, 0.679, 0.6789, 0.6789, 0.6789, 0.6789, 0.6789, 0.6789, -1.8241, -1.773, -1.8891, -0.5536, -1.8767, -0.7132, -0.8041, -2.2282, -2.0633, -0.6472, -1.0653, -0.6433, -1.8301, -0.9238, -0.5905, -0.4952, -2.1714, -0.4236, -1.4619, -0.8693, -1.8254, 0.2532, -1.5012, 0.2532, -1.7222, -0.6982, 0.2531, -0.7817, -0.8277, -1.6413]}, \"token.table\": {\"Topic\": [1, 1, 4, 3, 1, 2, 3, 1, 2, 5, 3, 1, 1, 2, 3, 1, 2, 3, 5, 3, 3, 1, 2, 3, 4, 1, 2, 2, 5, 5, 1, 3, 1, 1, 4, 1, 4, 4, 4, 4, 4, 4, 4, 2, 1, 2, 3, 4, 1, 3, 4, 5, 2, 1, 2, 5, 4, 4, 1, 2, 3, 4, 4, 4, 5, 4, 4, 1, 3, 1, 2, 3, 3, 1, 5, 1, 4, 1, 2, 4, 5, 5, 1, 2, 5, 1, 3, 4, 4, 3, 1, 4, 5, 4, 1, 1, 3, 1, 2, 1, 2, 3, 6, 4, 2, 1, 1, 2, 3, 1, 2, 3, 4, 5, 1, 2, 4, 4, 3, 2, 3, 1, 2, 3, 4, 5, 1, 2, 2, 1, 2, 3, 1, 3, 4, 5, 1, 2, 3, 4, 5, 4, 3, 4, 5, 2, 1, 4, 4, 2, 1, 5, 4, 5, 4, 5, 4, 5, 5, 1, 2, 4, 1, 2, 3, 4, 2, 5, 1, 2, 3, 2, 1, 1, 5, 4, 2, 2, 1, 3, 2, 1, 2, 3, 4, 5, 1, 3, 5, 1, 3, 1, 2, 4, 5, 4, 4, 5, 4, 1, 2, 3, 4, 5, 1, 3, 3, 1, 1, 2, 3, 5, 4, 4, 2, 3, 2, 1, 2, 1, 3, 5, 1, 2, 4, 5, 5, 3, 1, 2, 3, 3, 5, 1, 2, 4, 3, 4, 1, 2, 3, 1, 2, 3, 5, 1, 4, 1, 2, 3, 4, 5, 1, 4, 1, 4, 1, 2, 4, 1, 4, 4, 1, 5, 2, 1, 1, 2, 1, 5, 4, 3, 2, 4, 3, 5, 1, 2, 4, 5, 1, 2, 3, 4, 5, 1, 2, 4, 1, 2, 4, 3, 1, 2, 1, 4, 5, 1, 2, 3, 4, 1, 3, 4, 1, 4, 4, 5, 1, 3, 1, 2, 1, 4, 1, 2, 3, 4, 5, 2, 4, 4, 1, 2, 3, 4, 5, 2, 4, 2, 3, 4, 2, 5, 4, 4, 3, 1, 2, 3, 4, 5, 3, 5, 1, 2, 1, 2, 3, 4, 5, 1, 1, 2, 4, 2, 2, 4, 3, 5, 3, 1, 2, 3, 4, 2, 3, 3, 1, 1, 2, 3, 4, 5, 1, 5, 3, 4, 1, 3, 5, 1, 3, 5, 3, 5, 4, 3, 1, 2, 4, 1, 5, 3, 2, 3, 5, 2, 4, 1, 2, 1, 1, 5, 1, 5, 1, 5, 1, 1, 2, 3, 4, 5, 5, 4, 4], \"Freq\": [0.9747388090669538, 0.5664632208095082, 0.2832316104047541, 0.7223794675846011, 0.7586723561709412, 0.22760170685128236, 0.7223859183121814, 0.7464988527450117, 0.18662471318625293, 0.18662471318625293, 0.7763026764299573, 0.951400543056468, 0.2704721004984793, 0.5409442009969586, 0.2704721004984793, 0.49990660821455585, 0.33327107214303725, 0.16663553607151863, 0.16663553607151863, 0.7763044055470469, 0.7763035706751608, 0.23963415244655648, 0.23963415244655648, 0.23963415244655648, 0.23963415244655648, 0.8753455830565526, 0.9576001389855777, 0.5838115582821002, 0.2919057791410501, 0.897004841873551, 0.6958458650533279, 0.30926482891259016, 0.8753100183485054, 0.951367331921353, 0.8539764452020795, 0.8753578863516358, 0.8539728697321403, 0.8539728456226215, 0.8539638352096127, 0.8539747860530627, 0.8539727302506372, 0.8539741988511373, 0.8539934390337199, 0.7585768780171053, 0.4526813546768669, 0.22634067733843344, 0.22634067733843344, 0.22634067733843344, 0.6589900840689789, 0.10983168067816315, 0.054915840339081576, 0.1647475210172447, 0.7585768780407598, 0.5334495744253528, 0.4445413120211273, 0.896990557956556, 0.8539832818396265, 0.8539728492205333, 0.42674343760499306, 0.1422478125349977, 0.2844956250699954, 0.1422478125349977, 0.8539578530787693, 0.8539735027965578, 0.8970054638841555, 0.8539822125143168, 0.8539682035875213, 0.9024882303712877, 0.10027647004125419, 0.22535484242242287, 0.45070968484484575, 0.45070968484484575, 0.7763006965894883, 0.875373052388509, 0.8970051332594989, 0.8611817323740503, 0.21529543309351257, 0.25005258108374406, 0.25005258108374406, 0.25005258108374406, 0.25005258108374406, 0.89698979802164, 0.3829346395538931, 0.5105795194051909, 0.12764487985129772, 0.2841014666599555, 0.568202933319911, 0.2841014666599555, 0.5573946093553164, 0.7763079198845649, 0.7944090162281904, 0.2648030054093968, 0.897005303054924, 0.8539572139990806, 0.8753130179015441, 0.8753600196171993, 0.7763016311957043, 0.4351638730311979, 0.4351638730311979, 0.30296551400595323, 0.30296551400595323, 0.30296551400595323, 0.15148275700297661, 0.8539809247594532, 0.7585768780407598, 0.9514351067114317, 0.7646083049741175, 0.2548694349913725, 0.7763062354632918, 0.2646318308256674, 0.33078978853208424, 0.19847387311925052, 0.06615795770641685, 0.06615795770641685, 0.447072024199931, 0.29804801613328735, 0.14902400806664368, 0.5573972987338895, 0.7223789940917121, 0.7585768780407598, 0.6448845065606814, 0.3633368702220998, 0.2906694961776799, 0.2180021221332599, 0.07266737404441997, 0.07266737404441997, 0.5631224290749619, 0.42234182180622143, 0.7585768780407598, 0.31354303445535364, 0.31354303445535364, 0.31354303445535364, 0.515136771661592, 0.3434245144410613, 0.17171225722053066, 0.17171225722053066, 0.39188438392692815, 0.19594219196346407, 0.19594219196346407, 0.06531406398782136, 0.06531406398782136, 0.8539740234736323, 0.6384589064492568, 0.2128196354830856, 0.2128196354830856, 0.75857687383919, 0.8682384445029737, 0.8539553378860544, 0.8539947601047224, 0.9576054283914605, 0.701380985874812, 0.350690492937406, 0.8539519876545736, 0.8969899492750938, 0.8539854712028035, 0.5946212353373636, 0.8539741177843913, 0.8970051576309321, 0.8970045889307409, 0.22987308870296763, 0.45974617740593526, 0.22987308870296763, 0.39458354971124154, 0.39458354971124154, 0.14796883114171558, 0.04932294371390519, 0.7585768780407598, 0.8969860963562739, 0.4380699039134407, 0.4380699039134407, 0.21903495195672035, 0.7585768780407598, 0.7851785232021993, 0.3921320973487486, 0.3921320973487486, 0.8539654809385091, 0.9575825180142878, 0.6995569591338646, 0.7693733984681093, 0.15387467969362184, 0.7585768780407598, 0.41912588596033307, 0.13970862865344436, 0.3725563430758516, 0.04656954288448145, 0.04656954288448145, 0.37488702111206323, 0.37488702111206323, 0.18744351055603162, 0.8753189239477874, 0.7763050362342816, 0.17101041662723243, 0.34202083325446486, 0.17101041662723243, 0.34202083325446486, 0.8539897734264342, 0.8539477969816478, 0.8969926496247789, 0.5573977111174672, 0.25154971601602577, 0.41924952669337634, 0.25154971601602577, 0.08384990533867526, 0.08384990533867526, 0.2564399226995712, 0.5128798453991424, 0.7763024052757667, 0.875327179219997, 0.29603172448164494, 0.14801586224082247, 0.5920634489632899, 0.5946348424414356, 0.8539850062371634, 0.8539655347404356, 0.7585768780407598, 0.776306830945212, 0.7585768780407598, 0.16562386553938896, 0.8281193276969449, 0.5491268275825161, 0.36608455172167736, 0.18304227586083868, 0.5580388074369418, 0.18601293581231393, 0.18601293581231393, 0.18601293581231393, 0.8970046883094334, 0.6448830853046239, 0.22535324102914964, 0.4507064820582993, 0.4507064820582993, 0.6598160434692227, 0.8970052661534281, 0.16562141157667315, 0.8281070578833657, 0.8539695755779069, 0.7763060498770852, 0.8539816099492562, 0.374813502708907, 0.374813502708907, 0.1874067513544535, 0.4963266173322523, 0.16544220577741742, 0.16544220577741742, 0.16544220577741742, 0.7255218492519131, 0.18138046231297827, 0.3468729269882758, 0.3468729269882758, 0.13874917079531032, 0.06937458539765516, 0.06937458539765516, 0.8753111564749618, 0.8539852407033544, 0.7944626898915352, 0.2648208966305118, 0.7044963926278796, 0.1761240981569699, 0.1761240981569699, 0.875328714254387, 0.8539935333148095, 0.8539604649001484, 0.5043409784700218, 0.5043409784700218, 0.7585768780407598, 0.8753915462741184, 0.8758805839663065, 0.10948507299578832, 0.875310503180642, 0.8969921285534095, 0.8539846121053305, 0.7763030051473185, 0.7585768759500501, 0.8539794280406952, 0.776300427977947, 0.8970036891067811, 0.5073808560419217, 0.25369042802096087, 0.12684521401048043, 0.12684521401048043, 0.3857391193584886, 0.3857391193584886, 0.09643477983962215, 0.09643477983962215, 0.09643477983962215, 0.5803148251570014, 0.1934382750523338, 0.1934382750523338, 0.8348124278905331, 0.20870310697263328, 0.8539661812774328, 0.9860236943871629, 0.764654380577022, 0.25488479352567395, 0.42364775454642734, 0.42364775454642734, 0.21182387727321367, 0.22691277310096056, 0.22691277310096056, 0.4538255462019211, 0.8539669685582062, 0.24840140818190873, 0.24840140818190873, 0.49680281636381746, 0.527213760850321, 0.2636068804251605, 0.43388449422281533, 0.43388449422281533, 0.840025659406331, 0.21000641485158275, 0.8754069146444637, 0.9575937937837409, 0.6819298697243448, 0.2273099565747816, 0.5338863722828715, 0.059320708031430164, 0.23728283212572066, 0.059320708031430164, 0.11864141606286033, 0.515110358797755, 0.515110358797755, 0.8539828869919734, 0.29316477558745996, 0.21987358169059498, 0.14658238779372998, 0.21987358169059498, 0.14658238779372998, 0.7585768672322304, 0.8539870368816762, 0.9576046491861079, 0.7763013747257993, 0.8539663875748434, 0.957573240837505, 0.8970052008664698, 0.8539840008610211, 0.8539797507958216, 0.7763026700851624, 0.5674489970939617, 0.18914966569798722, 0.18914966569798722, 0.18914966569798722, 0.896982712334871, 0.7763036939070412, 0.897004887193297, 0.16562308819996566, 0.8281154409998283, 0.4183696082553953, 0.20918480412769766, 0.13945653608513178, 0.06972826804256589, 0.13945653608513178, 0.9335957437272953, 0.7851055060543164, 0.9575994189862959, 0.8539950305454841, 0.7585768780407598, 0.9575925472872456, 0.8539799726703106, 0.7763041275262841, 0.8970045051080368, 0.7763069493843393, 0.3356336866971239, 0.3356336866971239, 0.16781684334856195, 0.16781684334856195, 0.7585768780407598, 0.7763066216086257, 0.7763019261083361, 0.8753579100624304, 0.417699469565484, 0.069616578260914, 0.278466313043656, 0.139233156521828, 0.069616578260914, 0.8683331821230094, 0.8969864112255018, 0.5232317017751744, 0.5232317017751744, 0.9513517479077076, 0.7763047568483377, 0.8969825350169542, 0.5956262001783525, 0.8549716220036302, 0.8970041839945954, 0.9860103325018356, 0.897005361320599, 0.8539780337882137, 0.7763032197809955, 0.408334372584881, 0.408334372584881, 0.853983234456553, 0.5043419831506064, 0.5043419831506064, 0.8729977955393733, 0.39608899722160335, 0.594133495832405, 0.8970056949573166, 0.9575794660649014, 0.8539773095405053, 0.7645909857963311, 0.25486366193211035, 0.8754164106047708, 0.9514899094118118, 0.8970043467442865, 0.8753099378189081, 0.8969847340186762, 0.8753133668535551, 0.8970049124121373, 0.875317417476771, 0.49050046130543, 0.16350015376847668, 0.16350015376847668, 0.16350015376847668, 0.16350015376847668, 0.9523162614263145, 0.8539574800961754, 0.8539801253257371], \"Term\": [\"\", \"\\\"\", \"\\\"\", \"+\", \"-\", \"-\", \"/\", \"1\", \"1\", \"1\", \"128\", \"15\", \"199\", \"199\", \"199\", \"2\", \"2\", \"2\", \"2\", \"255\", \"29\", \"3\", \"3\", \"3\", \"3\", \"359\", \"399\", \"4\", \"4\", \"560\", \":\", \":\", \"::\", \"G\", \"Narai\", \"Shabushi\", \"^^\", \"mall\", \"pizza\", \"pizzeria\", \"union\", \"xx\", \"\\u0e01\\u0e25\\u0e22\\u0e38\\u0e17\\u0e18\\u0e4c\", \"\\u0e01\\u0e25\\u0e32\\u0e22\", \"\\u0e01\\u0e30\\u0e1b\\u0e34\", \"\\u0e01\\u0e30\\u0e1b\\u0e34\", \"\\u0e01\\u0e30\\u0e1b\\u0e34\", \"\\u0e01\\u0e30\\u0e1b\\u0e34\", \"\\u0e01\\u0e34\\u0e19\", \"\\u0e01\\u0e34\\u0e19\", \"\\u0e01\\u0e34\\u0e19\", \"\\u0e01\\u0e34\\u0e19\", \"\\u0e01\\u0e35\\u0e48\", \"\\u0e01\\u0e38\\u0e49\\u0e07\", \"\\u0e01\\u0e38\\u0e49\\u0e07\", \"\\u0e02\\u0e19\\u0e21\", \"\\u0e02\\u0e19\\u0e32\\u0e14\", \"\\u0e02\\u0e2d\\u0e07\\u0e2a\\u0e14\", \"\\u0e02\\u0e2d\\u0e07\\u0e2b\\u0e27\\u0e32\\u0e19\", \"\\u0e02\\u0e2d\\u0e07\\u0e2b\\u0e27\\u0e32\\u0e19\", \"\\u0e02\\u0e2d\\u0e07\\u0e2b\\u0e27\\u0e32\\u0e19\", \"\\u0e02\\u0e2d\\u0e07\\u0e2b\\u0e27\\u0e32\\u0e19\", \"\\u0e02\\u0e36\\u0e49\\u0e19\\u0e43\\u0e08\", \"\\u0e02\\u0e49\\u0e19\", \"\\u0e02\\u0e49\\u0e32\\u0e07\\u0e19\\u0e2d\\u0e01\", \"\\u0e02\\u0e49\\u0e32\\u0e27\\u0e1b\\u0e31\\u0e49\\u0e19\", \"\\u0e02\\u0e49\\u0e32\\u0e27\\u0e21\\u0e31\\u0e19\\u0e44\\u0e01\\u0e48\", \"\\u0e04\\u0e19\", \"\\u0e04\\u0e19\", \"\\u0e04\\u0e19\\u0e25\\u0e30\", \"\\u0e04\\u0e19\\u0e25\\u0e30\", \"\\u0e04\\u0e19\\u0e25\\u0e30\", \"\\u0e04\\u0e23\\u0e35\\u0e21\", \"\\u0e04\\u0e23\\u0e36\\u0e48\\u0e07\", \"\\u0e04\\u0e27\\u0e32\\u0e21\\u0e15\\u0e49\\u0e2d\\u0e07\\u0e01\\u0e32\\u0e23\", \"\\u0e04\\u0e34\\u0e27\", \"\\u0e04\\u0e34\\u0e27\", \"\\u0e04\\u0e38\\u0e13\\u0e20\\u0e32\\u0e1e\", \"\\u0e04\\u0e38\\u0e13\\u0e20\\u0e32\\u0e1e\", \"\\u0e04\\u0e38\\u0e13\\u0e20\\u0e32\\u0e1e\", \"\\u0e04\\u0e38\\u0e13\\u0e20\\u0e32\\u0e1e\", \"\\u0e04\\u0e38\\u0e13\\u0e20\\u0e32\\u0e1e\\u0e14\\u0e35\", \"\\u0e04\\u0e38\\u0e49\\u0e21\", \"\\u0e04\\u0e38\\u0e49\\u0e21\", \"\\u0e04\\u0e38\\u0e49\\u0e21\", \"\\u0e04\\u0e38\\u0e49\\u0e21\\u0e04\\u0e48\\u0e32\", \"\\u0e04\\u0e38\\u0e49\\u0e21\\u0e04\\u0e48\\u0e32\", \"\\u0e04\\u0e38\\u0e49\\u0e21\\u0e04\\u0e48\\u0e32\", \"\\u0e04\\u0e48\\u0e32\", \"\\u0e08\\u0e1a\", \"\\u0e08\\u0e32\\u0e19\", \"\\u0e08\\u0e32\\u0e19\", \"\\u0e08\\u0e33\\u0e01\\u0e31\\u0e14\", \"\\u0e08\\u0e33\\u0e44\\u0e14\\u0e49\", \"\\u0e08\\u0e34\\u0e49\\u0e21\", \"\\u0e08\\u0e37\\u0e14\", \"\\u0e08\\u0e38\\u0e01\", \"\\u0e08\\u0e48\\u0e32\\u0e22\", \"\\u0e08\\u0e48\\u0e32\\u0e22\", \"\\u0e0a\\u0e2d\\u0e1a\", \"\\u0e0a\\u0e2d\\u0e1a\", \"\\u0e0a\\u0e2d\\u0e1a\", \"\\u0e0a\\u0e2d\\u0e1a\", \"\\u0e0a\\u0e2d\\u0e1b\", \"\\u0e0a\\u0e31\\u0e48\\u0e27\\u0e04\\u0e23\\u0e32\\u0e27\", \"\\u0e0a\\u0e31\\u0e48\\u0e27\\u0e42\\u0e21\\u0e07\", \"\\u0e0a\\u0e31\\u0e49\\u0e19\", \"\\u0e0a\\u0e31\\u0e49\\u0e19\", \"\\u0e0a\\u0e32\\u0e15\", \"\\u0e0a\\u0e32\\u0e1a\\u0e39\", \"\\u0e0a\\u0e32\\u0e1a\\u0e39\", \"\\u0e0a\\u0e32\\u0e1a\\u0e39\", \"\\u0e0a\\u0e32\\u0e1a\\u0e39\", \"\\u0e0a\\u0e32\\u0e1a\\u0e39\", \"\\u0e0a\\u0e34\", \"\\u0e0a\\u0e34\", \"\\u0e0a\\u0e34\", \"\\u0e0a\\u0e37\\u0e48\\u0e2d\", \"\\u0e0a\\u0e38\\u0e14\", \"\\u0e0b\\u0e30\\u0e07\\u0e31\\u0e49\\u0e19\", \"\\u0e0b\\u0e36\", \"\\u0e0b\\u0e38\\u0e1b\", \"\\u0e0b\\u0e38\\u0e1b\", \"\\u0e0b\\u0e38\\u0e1b\", \"\\u0e0b\\u0e38\\u0e1b\", \"\\u0e0b\\u0e38\\u0e1b\", \"\\u0e0b\\u0e39\\u0e0a\\u0e34\", \"\\u0e0b\\u0e39\\u0e0a\\u0e34\", \"\\u0e0d\\u0e35\\u0e48\", \"\\u0e0d\\u0e35\\u0e48\\u0e1b\\u0e38\\u0e48\\u0e19\", \"\\u0e0d\\u0e35\\u0e48\\u0e1b\\u0e38\\u0e48\\u0e19\", \"\\u0e0d\\u0e35\\u0e48\\u0e1b\\u0e38\\u0e48\\u0e19\", \"\\u0e14\\u0e33\", \"\\u0e14\\u0e33\", \"\\u0e14\\u0e33\", \"\\u0e14\\u0e33\", \"\\u0e14\\u0e35\", \"\\u0e14\\u0e35\", \"\\u0e14\\u0e35\", \"\\u0e14\\u0e35\", \"\\u0e14\\u0e35\", \"\\u0e14\\u0e35\\u0e02\\u0e36\\u0e49\\u0e19\", \"\\u0e14\\u0e35\\u0e21\\u0e32\\u0e01\", \"\\u0e14\\u0e35\\u0e21\\u0e32\\u0e01\", \"\\u0e14\\u0e35\\u0e21\\u0e32\\u0e01\", \"\\u0e14\\u0e36\\u0e01\", \"\\u0e14\\u0e39\", \"\\u0e15\\u0e15\\u0e35\\u0e49\", \"\\u0e15\\u0e23\\u0e07\\u0e02\\u0e49\\u0e32\\u0e21\", \"\\u0e15\\u0e2d\\u0e19\\u0e19\\u0e35\\u0e49\", \"\\u0e15\\u0e31\\u0e01\", \"\\u0e15\\u0e31\\u0e01\", \"\\u0e15\\u0e31\\u0e14\\u0e01\\u0e33\\u0e25\\u0e31\\u0e07\", \"\\u0e15\\u0e31\\u0e14\\u0e2a\\u0e34\\u0e19\\u0e43\\u0e08\", \"\\u0e15\\u0e39\\u0e49\", \"\\u0e15\\u0e48\\u0e32\\u0e07 \\u0e46\", \"\\u0e15\\u0e49\\u0e21\", \"\\u0e16\\u0e32\\u0e14\", \"\\u0e16\\u0e32\\u0e21\", \"\\u0e17\\u0e2d\\u0e14\", \"\\u0e17\\u0e2d\\u0e14\", \"\\u0e17\\u0e2d\\u0e14\", \"\\u0e17\\u0e32\\u0e19\", \"\\u0e17\\u0e32\\u0e19\", \"\\u0e17\\u0e32\\u0e19\", \"\\u0e17\\u0e32\\u0e19\", \"\\u0e17\\u0e32\\u0e19\\u0e2d\\u0e32\\u0e2b\\u0e32\\u0e23\", \"\\u0e17\\u0e35\\u0e48\\u0e08\\u0e30\", \"\\u0e18\\u0e23\\u0e23\\u0e21\\u0e14\\u0e32\", \"\\u0e18\\u0e23\\u0e23\\u0e21\\u0e14\\u0e32\", \"\\u0e18\\u0e23\\u0e23\\u0e21\\u0e14\\u0e32\", \"\\u0e19\\u0e1e\", \"\\u0e19\\u0e30\\u0e04\\u0e30\", \"\\u0e19\\u0e31\\u0e48\\u0e07\", \"\\u0e19\\u0e31\\u0e48\\u0e07\", \"\\u0e19\\u0e34\\u0e27\", \"\\u0e19\\u0e36\\u0e01\", \"\\u0e19\\u0e36\\u0e01\\u0e16\\u0e36\\u0e07\", \"\\u0e19\\u0e38\\u0e48\\u0e21\", \"\\u0e19\\u0e38\\u0e48\\u0e21\", \"\\u0e19\\u0e49\\u0e30\", \"\\u0e19\\u0e49\\u0e33\", \"\\u0e19\\u0e49\\u0e33\", \"\\u0e19\\u0e49\\u0e33\", \"\\u0e19\\u0e49\\u0e33\", \"\\u0e19\\u0e49\\u0e33\", \"\\u0e19\\u0e49\\u0e33\\u0e08\\u0e34\\u0e49\\u0e21\", \"\\u0e19\\u0e49\\u0e33\\u0e08\\u0e34\\u0e49\\u0e21\", \"\\u0e19\\u0e49\\u0e33\\u0e08\\u0e34\\u0e49\\u0e21\", \"\\u0e19\\u0e4d\\u0e49\\u0e32\", \"\\u0e1a\\u0e23\\u0e32\", \"\\u0e1a\\u0e23\\u0e34\\u0e01\\u0e32\\u0e23\", \"\\u0e1a\\u0e23\\u0e34\\u0e01\\u0e32\\u0e23\", \"\\u0e1a\\u0e23\\u0e34\\u0e01\\u0e32\\u0e23\", \"\\u0e1a\\u0e23\\u0e34\\u0e01\\u0e32\\u0e23\", \"\\u0e1a\\u0e23\\u0e34\\u0e40\\u0e27\\u0e13\", \"\\u0e1a\\u0e31\\u0e15\\u0e23\\u0e2a\\u0e21\\u0e32\\u0e0a\\u0e34\\u0e01\", \"\\u0e1a\\u0e31\\u0e15\\u0e23\\u0e40\\u0e04\\u0e23\\u0e14\\u0e34\\u0e15\", \"\\u0e1a\\u0e32\\u0e07\\u0e2a\\u0e48\\u0e27\\u0e19\", \"\\u0e1a\\u0e32\\u0e17\", \"\\u0e1a\\u0e32\\u0e17\", \"\\u0e1a\\u0e32\\u0e17\", \"\\u0e1a\\u0e32\\u0e17\", \"\\u0e1a\\u0e32\\u0e17\", \"\\u0e1a\\u0e38\", \"\\u0e1a\\u0e38\", \"\\u0e1a\\u0e38\\u0e1e\", \"\\u0e1a\\u0e38\\u0e1f\\u0e40\\u0e1f\\u0e15\\u0e4c\", \"\\u0e1a\\u0e38\\u0e1f\\u0e40\\u0e1f\\u0e48\\u0e15\\u0e4c\", \"\\u0e1a\\u0e38\\u0e1f\\u0e40\\u0e1f\\u0e48\\u0e15\\u0e4c\", \"\\u0e1a\\u0e38\\u0e1f\\u0e40\\u0e1f\\u0e48\\u0e15\\u0e4c\", \"\\u0e1b\\u0e23\\u0e30\\u0e17\\u0e31\\u0e1a\\u0e43\\u0e08\", \"\\u0e1b\\u0e23\\u0e31\\u0e1a\\u0e1b\\u0e23\\u0e38\\u0e07\", \"\\u0e1b\\u0e23\\u0e38\\u0e07\", \"\\u0e1b\\u0e25\\u0e32\", \"\\u0e1b\\u0e34\\u0e14\\u0e17\\u0e49\\u0e32\\u0e22\", \"\\u0e1b\\u0e38\", \"\\u0e1b\\u0e38\\u0e23\\u0e30\", \"\\u0e1b\\u0e38\\u0e23\\u0e30\", \"\\u0e1c\\u0e31\\u0e01\", \"\\u0e1c\\u0e31\\u0e01\", \"\\u0e1c\\u0e31\\u0e01\", \"\\u0e1e\\u0e19\\u0e31\\u0e01\\u0e07\\u0e32\\u0e19\", \"\\u0e1e\\u0e19\\u0e31\\u0e01\\u0e07\\u0e32\\u0e19\", \"\\u0e1e\\u0e19\\u0e31\\u0e01\\u0e07\\u0e32\\u0e19\", \"\\u0e1e\\u0e19\\u0e31\\u0e01\\u0e07\\u0e32\\u0e19\", \"\\u0e1e\\u0e2d\\u0e01\\u0e31\\u0e1a\", \"\\u0e1e\\u0e2d\\u0e19\", \"\\u0e1e\\u0e34\\u0e0b\\u0e0b\\u0e48\\u0e32\", \"\\u0e1e\\u0e34\\u0e0b\\u0e0b\\u0e48\\u0e32\", \"\\u0e1e\\u0e34\\u0e0b\\u0e0b\\u0e48\\u0e32\", \"\\u0e1f\\u0e40\\u0e1f\\u0e48\", \"\\u0e20\\u0e32\\u0e1e\", \"\\u0e21\", \"\\u0e21\", \"\\u0e21\\u0e31\\u0e19\\u0e14\\u0e35\", \"\\u0e22\", \"\\u0e22\\u0e2d\\u0e14\", \"\\u0e23\\u0e2a\", \"\\u0e23\\u0e2a\", \"\\u0e23\\u0e2a\", \"\\u0e23\\u0e2a\\u0e0a\\u0e32\\u0e15\\u0e34\", \"\\u0e23\\u0e2a\\u0e0a\\u0e32\\u0e15\\u0e34\", \"\\u0e23\\u0e2a\\u0e0a\\u0e32\\u0e15\\u0e34\", \"\\u0e23\\u0e2a\\u0e0a\\u0e32\\u0e15\\u0e34\", \"\\u0e23\\u0e2d\", \"\\u0e23\\u0e2d\", \"\\u0e23\\u0e32\\u0e04\\u0e32\", \"\\u0e23\\u0e32\\u0e04\\u0e32\", \"\\u0e23\\u0e32\\u0e04\\u0e32\", \"\\u0e23\\u0e32\\u0e04\\u0e32\", \"\\u0e23\\u0e32\\u0e04\\u0e32\", \"\\u0e23\\u0e35\\u0e48\", \"\\u0e23\\u0e39\\u0e49\\u0e08\\u0e31\\u0e01\", \"\\u0e23\\u0e39\\u0e49\\u0e2a\\u0e36\\u0e01\", \"\\u0e23\\u0e39\\u0e49\\u0e2a\\u0e36\\u0e01\", \"\\u0e25\\u0e2d\\u0e07\", \"\\u0e25\\u0e2d\\u0e07\", \"\\u0e25\\u0e2d\\u0e07\", \"\\u0e25\\u0e32\", \"\\u0e25\\u0e32\\u0e19\", \"\\u0e25\\u0e35\", \"\\u0e25\\u0e39\\u0e01\\u0e0a\\u0e34\\u0e49\\u0e19\", \"\\u0e25\\u0e39\\u0e01\\u0e0a\\u0e34\\u0e49\\u0e19\", \"\\u0e27\\u0e01\", \"\\u0e27\\u0e32\\u0e19\\u0e34\\u0e25\\u0e32\", \"\\u0e2a\\u0e14\", \"\\u0e2a\\u0e14\", \"\\u0e2a\\u0e15\\u0e2d\", \"\\u0e2a\\u0e1a\\u0e32\\u0e22\\u0e14\\u0e35\", \"\\u0e2a\\u0e1b\\u0e32\", \"\\u0e2a\\u0e21\\u0e23\\u0e32\\u0e04\\u0e32\", \"\\u0e2a\\u0e21\\u0e43\\u0e08\", \"\\u0e2a\\u0e25\\u0e31\\u0e14\", \"\\u0e2a\\u0e27\\u0e22\", \"\\u0e2a\\u0e30\\u0e2d\\u0e32\\u0e14\\u0e2a\\u0e30\\u0e2d\\u0e49\\u0e32\\u0e19\", \"\\u0e2a\\u0e31\\u0e48\\u0e07\", \"\\u0e2a\\u0e31\\u0e48\\u0e07\", \"\\u0e2a\\u0e31\\u0e48\\u0e07\", \"\\u0e2a\\u0e31\\u0e48\\u0e07\", \"\\u0e2a\\u0e32\\u0e02\\u0e32\", \"\\u0e2a\\u0e32\\u0e02\\u0e32\", \"\\u0e2a\\u0e32\\u0e02\\u0e32\", \"\\u0e2a\\u0e32\\u0e02\\u0e32\", \"\\u0e2a\\u0e32\\u0e02\\u0e32\", \"\\u0e2a\\u0e32\\u0e22\\u0e1e\\u0e32\\u0e19\", \"\\u0e2a\\u0e32\\u0e22\\u0e1e\\u0e32\\u0e19\", \"\\u0e2a\\u0e32\\u0e22\\u0e1e\\u0e32\\u0e19\", \"\\u0e2a\\u0e33\\u0e2b\\u0e23\\u0e31\\u0e1a\", \"\\u0e2a\\u0e33\\u0e2b\\u0e23\\u0e31\\u0e1a\", \"\\u0e2a\\u0e38\\u0e01\", \"\\u0e2a\\u0e38\\u0e01\\u0e35\\u0e49\", \"\\u0e2a\\u0e44\\u0e25\\u0e14\\u0e4c\", \"\\u0e2a\\u0e44\\u0e25\\u0e14\\u0e4c\", \"\\u0e2b\\u0e19\\u0e49\\u0e32\", \"\\u0e2b\\u0e19\\u0e49\\u0e32\", \"\\u0e2b\\u0e19\\u0e49\\u0e32\", \"\\u0e2b\\u0e21\\u0e39\", \"\\u0e2b\\u0e21\\u0e39\", \"\\u0e2b\\u0e21\\u0e39\", \"\\u0e2b\\u0e21\\u0e39\\u0e48\\u0e04\\u0e13\\u0e30\", \"\\u0e2b\\u0e21\\u0e49\\u0e2d\", \"\\u0e2b\\u0e21\\u0e49\\u0e2d\", \"\\u0e2b\\u0e21\\u0e49\\u0e2d\", \"\\u0e2b\\u0e22\\u0e34\\u0e1a\", \"\\u0e2b\\u0e22\\u0e34\\u0e1a\", \"\\u0e2b\\u0e25\\u0e32\\u0e01\\u0e2b\\u0e25\\u0e32\\u0e22\", \"\\u0e2b\\u0e25\\u0e32\\u0e01\\u0e2b\\u0e25\\u0e32\\u0e22\", \"\\u0e2b\\u0e27\\u0e32\\u0e19\", \"\\u0e2b\\u0e27\\u0e32\\u0e19\", \"\\u0e2b\\u0e2d\\u0e21\", \"\\u0e2b\\u0e34\\u0e27\", \"\\u0e2b\\u0e49\\u0e32\\u0e07\", \"\\u0e2b\\u0e49\\u0e32\\u0e07\", \"\\u0e2d\\u0e23\\u0e48\\u0e2d\\u0e22\", \"\\u0e2d\\u0e23\\u0e48\\u0e2d\\u0e22\", \"\\u0e2d\\u0e23\\u0e48\\u0e2d\\u0e22\", \"\\u0e2d\\u0e23\\u0e48\\u0e2d\\u0e22\", \"\\u0e2d\\u0e23\\u0e48\\u0e2d\\u0e22\", \"\\u0e2d\\u0e2d\", \"\\u0e2d\\u0e2d\", \"\\u0e2d\\u0e2d\\u0e01\\u0e23\\u0e49\\u0e32\\u0e19\", \"\\u0e2d\\u0e32\\u0e2b\\u0e32\\u0e23\", \"\\u0e2d\\u0e32\\u0e2b\\u0e32\\u0e23\", \"\\u0e2d\\u0e32\\u0e2b\\u0e32\\u0e23\", \"\\u0e2d\\u0e32\\u0e2b\\u0e32\\u0e23\", \"\\u0e2d\\u0e32\\u0e2b\\u0e32\\u0e23\", \"\\u0e2d\\u0e32\\u0e2b\\u0e32\\u0e23\\u0e40\\u0e2a\\u0e23\\u0e34\\u0e21\", \"\\u0e2d\\u0e34\\u0e2d\\u0e34\", \"\\u0e2d\\u0e34\\u0e48\\u0e21\", \"\\u0e40\", \"\\u0e40\\u0e01\", \"\\u0e40\\u0e01\\u0e34\\u0e19\\u0e44\\u0e1b\", \"\\u0e40\\u0e04\\u0e25\\u0e21\", \"\\u0e40\\u0e04\\u0e25\\u0e37\\u0e48\\u0e2d\\u0e19\\u0e15\\u0e31\\u0e27\", \"\\u0e40\\u0e04\\u0e32\\u0e19\\u0e4c\\u0e40\\u0e15\\u0e2d\\u0e23\\u0e4c\", \"\\u0e40\\u0e0b\\u0e15\", \"\\u0e40\\u0e14\\u0e2d\\u0e30\", \"\\u0e40\\u0e14\\u0e2d\\u0e30\", \"\\u0e40\\u0e14\\u0e2d\\u0e30\", \"\\u0e40\\u0e14\\u0e2d\\u0e30\", \"\\u0e40\\u0e14\\u0e47\\u0e01\", \"\\u0e40\\u0e14\\u0e47\\u0e14\", \"\\u0e40\\u0e15\\u0e49\\u0e32\\u0e40\\u0e08\\u0e35\\u0e49\\u0e22\\u0e27\", \"\\u0e40\\u0e17\", \"\\u0e40\\u0e17\", \"\\u0e40\\u0e19\\u0e37\\u0e49\\u0e2d\", \"\\u0e40\\u0e19\\u0e37\\u0e49\\u0e2d\", \"\\u0e40\\u0e19\\u0e37\\u0e49\\u0e2d\", \"\\u0e40\\u0e19\\u0e37\\u0e49\\u0e2d\", \"\\u0e40\\u0e19\\u0e37\\u0e49\\u0e2d\", \"\\u0e40\\u0e19\\u0e37\\u0e49\\u0e2d\\u0e27\\u0e31\\u0e27\", \"\\u0e40\\u0e19\\u0e37\\u0e49\\u0e2d\\u0e2b\\u0e21\\u0e39\", \"\\u0e40\\u0e1a\", \"\\u0e40\\u0e1a\\u0e32\", \"\\u0e40\\u0e1b\\u0e47\\u0e19\\u0e21\\u0e32\", \"\\u0e40\\u0e1b\\u0e47\\u0e19\\u0e2b\\u0e25\\u0e31\\u0e01\", \"\\u0e40\\u0e1b\\u0e47\\u0e19\\u0e41\\u0e19\\u0e27\", \"\\u0e40\\u0e1b\\u0e49\\u0e07\", \"\\u0e40\\u0e1c\\u0e47\\u0e14\", \"\\u0e40\\u0e1f\\u0e48\", \"\\u0e40\\u0e21\\u0e19\\u0e39\", \"\\u0e40\\u0e21\\u0e19\\u0e39\", \"\\u0e40\\u0e21\\u0e19\\u0e39\", \"\\u0e40\\u0e21\\u0e19\\u0e39\", \"\\u0e40\\u0e22\\u0e47\\u0e19\", \"\\u0e40\\u0e23\\u0e22\", \"\\u0e40\\u0e23\\u0e34\\u0e2a\", \"\\u0e40\\u0e25\\u0e34\\u0e01\", \"\\u0e40\\u0e25\\u0e37\\u0e2d\\u0e01\", \"\\u0e40\\u0e25\\u0e37\\u0e2d\\u0e01\", \"\\u0e40\\u0e25\\u0e37\\u0e2d\\u0e01\", \"\\u0e40\\u0e25\\u0e37\\u0e2d\\u0e01\", \"\\u0e40\\u0e25\\u0e37\\u0e2d\\u0e01\", \"\\u0e40\\u0e27\\u0e25\\u0e32\", \"\\u0e40\\u0e2a\\u0e49\\u0e19\", \"\\u0e40\\u0e2b\\u0e21\\u0e32\\u0e30\\u0e2a\\u0e21\", \"\\u0e40\\u0e2b\\u0e21\\u0e32\\u0e30\\u0e2a\\u0e21\", \"\\u0e40\\u0e2b\\u0e47\\u0e14\", \"\\u0e40\\u0e40\\u0e1a\\u0e1a\", \"\\u0e41\\u0e04\\u0e1a\", \"\\u0e41\\u0e19\\u0e27\", \"\\u0e41\\u0e19\\u0e30\\u0e19\\u0e33\", \"\\u0e41\\u0e1a\\u0e1a\\u0e19\\u0e35\\u0e49\", \"\\u0e41\\u0e1a\\u0e48\\u0e07\", \"\\u0e41\\u0e1f\\u0e19\", \"\\u0e41\\u0e21\\u0e04\", \"\\u0e42\\u0e0a\\u0e04\", \"\\u0e42\\u0e0b\\u0e19\", \"\\u0e42\\u0e0b\\u0e19\", \"\\u0e42\\u0e14\", \"\\u0e42\\u0e14\\u0e22\\u0e23\\u0e27\\u0e21\", \"\\u0e42\\u0e14\\u0e22\\u0e23\\u0e27\\u0e21\", \"\\u0e42\\u0e1b\\u0e23\\u0e42\\u0e21\\u0e0a\\u0e31\\u0e48\\u0e19\", \"\\u0e42\\u0e21\", \"\\u0e42\\u0e21\", \"\\u0e42\\u0e21\\u0e08\\u0e34\", \"\\u0e42\\u0e21\\u0e48\", \"\\u0e42\\u0e2d\\u0e2d\\u0e34\\u0e0a\\u0e34\", \"\\u0e42\\u0e2d\\u0e40\\u0e04\", \"\\u0e42\\u0e2d\\u0e40\\u0e04\", \"\\u0e43\\u0e08\\u0e14\\u0e35\", \"\\u0e43\\u0e0a\\u0e49\\u0e44\\u0e14\\u0e49\", \"\\u0e43\\u0e2a\\u0e48\\u0e43\\u0e08\", \"\\u0e44\\u0e14\\u0e1f\\u0e39\\u0e01\\u0e38\", \"\\u0e44\\u0e14\\u0e49\\u0e01\\u0e25\\u0e34\\u0e48\\u0e19\", \"\\u0e44\\u0e1c\\u0e48\", \"\\u0e44\\u0e21\\u0e48\\u0e15\\u0e49\\u0e2d\\u0e07\", \"\\u0e44\\u0e21\\u0e49\", \"\\u0e44\\u0e2d\\u0e15\\u0e34\\u0e21\", \"\\u0e44\\u0e2d\\u0e15\\u0e34\\u0e21\", \"\\u0e44\\u0e2d\\u0e15\\u0e34\\u0e21\", \"\\u0e44\\u0e2d\\u0e15\\u0e34\\u0e21\", \"\\u0e44\\u0e2d\\u0e15\\u0e34\\u0e21\", \"\\u200b\", \"\\ud83d\\ude06\", \"\\ud83e\\udd23\"]}, \"R\": 30, \"lambda.step\": 0.01, \"plot.opts\": {\"xlab\": \"PC1\", \"ylab\": \"PC2\"}, \"topic.order\": [6, 4, 2, 3, 1, 5, 7]};\n\nfunction LDAvis_load_lib(url, callback){\n  var s = document.createElement('script');\n  s.src = url;\n  s.async = true;\n  s.onreadystatechange = s.onload = callback;\n  s.onerror = function(){console.warn(\"failed to load library \" + url);};\n  document.getElementsByTagName(\"head\")[0].appendChild(s);\n}\n\nif(typeof(LDAvis) !== \"undefined\"){\n   // already loaded: just create the visualization\n   !function(LDAvis){\n       new LDAvis(\"#\" + \"ldavis_el2126819969641376722314185509\", ldavis_el2126819969641376722314185509_data);\n   }(LDAvis);\n}else if(typeof define === \"function\" && define.amd){\n   // require.js is available: use it to load d3/LDAvis\n   require.config({paths: {d3: \"https://d3js.org/d3.v5\"}});\n   require([\"d3\"], function(d3){\n      window.d3 = d3;\n      LDAvis_load_lib(\"https://cdn.jsdelivr.net/gh/bmabey/pyLDAvis@3.3.1/pyLDAvis/js/ldavis.v3.0.0.js\", function(){\n        new LDAvis(\"#\" + \"ldavis_el2126819969641376722314185509\", ldavis_el2126819969641376722314185509_data);\n      });\n    });\n}else{\n    // require.js not available: dynamically load d3 & LDAvis\n    LDAvis_load_lib(\"https://d3js.org/d3.v5.js\", function(){\n         LDAvis_load_lib(\"https://cdn.jsdelivr.net/gh/bmabey/pyLDAvis@3.3.1/pyLDAvis/js/ldavis.v3.0.0.js\", function(){\n                 new LDAvis(\"#\" + \"ldavis_el2126819969641376722314185509\", ldavis_el2126819969641376722314185509_data);\n            })\n         });\n}\n</script>"
     },
     "metadata": {},
     "execution_count": 12
    }
   ],
   "source": [
    "pyLDAvis.gensim.prepare(model, gensim_corpus, dictionary)"
   ]
  },
  {
   "cell_type": "code",
   "execution_count": 13,
   "metadata": {
    "colab": {
     "base_uri": "https://localhost:8080/"
    },
    "executionInfo": {
     "elapsed": 2827,
     "status": "ok",
     "timestamp": 1605438652247,
     "user": {
      "displayName": "Thanachart Ritbumroong",
      "photoUrl": "",
      "userId": "18414212507793256437"
     },
     "user_tz": -420
    },
    "id": "KwvMjfSrrHU0",
    "outputId": "d0dfd026-3a06-4ce1-d7da-cec99ba4d7bc"
   },
   "outputs": [
    {
     "output_type": "execute_result",
     "data": {
      "text/plain": [
       "[('ทาน', 0.026423087),\n",
       " ('ปุระ', 0.01600556),\n",
       " ('เท', 0.01600528),\n",
       " ('ม', 0.01600493),\n",
       " ('ชาบู', 0.01600424),\n",
       " ('กุ้ง', 0.016004218),\n",
       " ('ราคา', 0.016001051),\n",
       " ('บาท', 0.015999729),\n",
       " ('สาขา', 0.013397708),\n",
       " ('คุ้ม', 0.013397329)]"
      ]
     },
     "metadata": {},
     "execution_count": 13
    }
   ],
   "source": [
    "model.show_topic(3)"
   ]
  },
  {
   "cell_type": "code",
   "execution_count": 14,
   "metadata": {
    "executionInfo": {
     "elapsed": 2823,
     "status": "ok",
     "timestamp": 1605438652248,
     "user": {
      "displayName": "Thanachart Ritbumroong",
      "photoUrl": "",
      "userId": "18414212507793256437"
     },
     "user_tz": -420
    },
    "id": "BSPNeUAjujS-"
   },
   "outputs": [],
   "source": [
    "df['topics'] = df['Review_tokenized'].apply(lambda x: model.get_document_topics(dictionary.doc2bow(x.split(',')))[0][0])\n",
    "df['score'] = df['Review_tokenized'].apply(lambda x: model.get_document_topics(dictionary.doc2bow(x.split(',')))[0][1])"
   ]
  },
  {
   "cell_type": "code",
   "execution_count": 15,
   "metadata": {
    "colab": {
     "base_uri": "https://localhost:8080/",
     "height": 669
    },
    "executionInfo": {
     "elapsed": 2819,
     "status": "ok",
     "timestamp": 1605438652248,
     "user": {
      "displayName": "Thanachart Ritbumroong",
      "photoUrl": "",
      "userId": "18414212507793256437"
     },
     "user_tz": -420
    },
    "id": "gqZjJuheum3D",
    "outputId": "0f707ce2-f491-40c2-85c6-1ae231fb5a67"
   },
   "outputs": [
    {
     "output_type": "execute_result",
     "data": {
      "text/plain": [
       "                                           Restaurant  \\\n",
       "0   Mo-Mo-Paradise (โม โม พาราไดซ์) เดอะมอลล์ บางกะปิ   \n",
       "1   Mo-Mo-Paradise (โม โม พาราไดซ์) เดอะมอลล์ บางกะปิ   \n",
       "2   Mo-Mo-Paradise (โม โม พาราไดซ์) เดอะมอลล์ บางกะปิ   \n",
       "3   Mo-Mo-Paradise (โม โม พาราไดซ์) เดอะมอลล์ บางกะปิ   \n",
       "4   Mo-Mo-Paradise (โม โม พาราไดซ์) เดอะมอลล์ บางกะปิ   \n",
       "5   Mo-Mo-Paradise (โม โม พาราไดซ์) เดอะมอลล์ บางกะปิ   \n",
       "6   Mo-Mo-Paradise (โม โม พาราไดซ์) เดอะมอลล์ บางกะปิ   \n",
       "7   Mo-Mo-Paradise (โม โม พาราไดซ์) เดอะมอลล์ บางกะปิ   \n",
       "8           Shabushi (ชาบูชิ) เดอะมอลล์บางกะปิ ชั้น G   \n",
       "9           Shabushi (ชาบูชิ) เดอะมอลล์บางกะปิ ชั้น G   \n",
       "10          Shabushi (ชาบูชิ) เดอะมอลล์บางกะปิ ชั้น G   \n",
       "11          Shabushi (ชาบูชิ) เดอะมอลล์บางกะปิ ชั้น G   \n",
       "12          Shabushi (ชาบูชิ) เดอะมอลล์บางกะปิ ชั้น G   \n",
       "13          Shabushi (ชาบูชิ) เดอะมอลล์บางกะปิ ชั้น G   \n",
       "14          Shabushi (ชาบูชิ) เดอะมอลล์บางกะปิ ชั้น G   \n",
       "15          Shabushi (ชาบูชิ) เดอะมอลล์บางกะปิ ชั้น G   \n",
       "16                                      ข้าน้อยขอชาบู   \n",
       "17                                      ข้าน้อยขอชาบู   \n",
       "18                                      ข้าน้อยขอชาบู   \n",
       "19                                      ข้าน้อยขอชาบู   \n",
       "20                                      ข้าน้อยขอชาบู   \n",
       "\n",
       "                                               Review  topics  \n",
       "0   ที่สำคัญของร้านนี้คือบริการดีมากพนักงานน่ารักส...       0  \n",
       "1   นึกถึงชาบูญี่ปุ่นยังไงก็ต้อง คิดถึงโมโม่ พาราไ...       3  \n",
       "2   มาทานช่วงนี้ สามารถนั่งโต๊ะเดียวกัน หม้อเดียวก...       5  \n",
       "3   ถ้านึกถึงชาบูที่มีเนื้อเน้นๆ ในราคาไม่โหดจนเกิ...       3  \n",
       "4   เดินมาหน้าร้านแล้วได้กลิ่นชาบูหอมมาก ๆ  ประกอบ...       0  \n",
       "5   ร้านบุฟเฟ่ ชาบูแนวญี่ปุ่น สายเนื้อหมู เนื้อวัว...       4  \n",
       "6   Number 20 : โมโม – พาราไดส์ (สาขาเดอะมอลบางกะป...       1  \n",
       "7   ร้านชาบูเฟรนไชส์รสชาติดีมากคุ้มค่าเหมาะสมกับรา...       1  \n",
       "8   มา านที่ขาบูชิต้องมาตอนหิว ไม่งั้นจะไม่คุ้มนะค...       3  \n",
       "9   ใครชอบกุ้งทอดเทมปุระ แค่กุ้งเทมปุระก็คุ้มแล้ว ...       3  \n",
       "10  กลับมาอัพเดทราคาชาบูชิ ตอนนี้อยู่ที่ 399 บาท n...       3  \n",
       "11  ห่างหายไปนานสำหรับชาบูชิ ตั้งแต่ทางร้านได้ปรับ...       5  \n",
       "12  เมื่อหลายวันก่อนนัดหาข้าวทานกับเดอะแกงค์ และก็...       5  \n",
       "13  บอกตรงๆว่าหลายครั้งที่เลือกจะกินบุฟเฟต์จะต้องอ...       5  \n",
       "14  สวัสดีครับวันนี้จะขอมารีวิวร้านชาบูชิ บุฟเฟขวั...       5  \n",
       "15  ชาบูชิ สาขาเดอะมอลล์บางกะปิ ตั้งอยู่ประตูหน้าห...       2  \n",
       "16  หลังจากที่เคยลองสาขายูเนี่ยนมอลล์ไป รอบนี้มาที...       3  \n",
       "17  ร้านบุฟเฟ่ต์ที่มีโปรโมชั่นหัวละ199บาท ไม่รวมน้...       1  \n",
       "18  เคยรู้จักร้านนี้จากที่ union mall ไม่เคยได้ลอง...       2  \n",
       "19  อร่อยมากค่ะ คุ้มค่าสมราคา บุฟเฟ่หมูผักต่างๆ รว...       1  \n",
       "20  ก็ตามที่เขียนเลยครับ ว่า ถ้าจะจ่ายในราคา 199 บ...       5  "
      ],
      "text/html": "<div>\n<style scoped>\n    .dataframe tbody tr th:only-of-type {\n        vertical-align: middle;\n    }\n\n    .dataframe tbody tr th {\n        vertical-align: top;\n    }\n\n    .dataframe thead th {\n        text-align: right;\n    }\n</style>\n<table border=\"1\" class=\"dataframe\">\n  <thead>\n    <tr style=\"text-align: right;\">\n      <th></th>\n      <th>Restaurant</th>\n      <th>Review</th>\n      <th>topics</th>\n    </tr>\n  </thead>\n  <tbody>\n    <tr>\n      <th>0</th>\n      <td>Mo-Mo-Paradise (โม โม พาราไดซ์) เดอะมอลล์ บางกะปิ</td>\n      <td>ที่สำคัญของร้านนี้คือบริการดีมากพนักงานน่ารักส...</td>\n      <td>0</td>\n    </tr>\n    <tr>\n      <th>1</th>\n      <td>Mo-Mo-Paradise (โม โม พาราไดซ์) เดอะมอลล์ บางกะปิ</td>\n      <td>นึกถึงชาบูญี่ปุ่นยังไงก็ต้อง คิดถึงโมโม่ พาราไ...</td>\n      <td>3</td>\n    </tr>\n    <tr>\n      <th>2</th>\n      <td>Mo-Mo-Paradise (โม โม พาราไดซ์) เดอะมอลล์ บางกะปิ</td>\n      <td>มาทานช่วงนี้ สามารถนั่งโต๊ะเดียวกัน หม้อเดียวก...</td>\n      <td>5</td>\n    </tr>\n    <tr>\n      <th>3</th>\n      <td>Mo-Mo-Paradise (โม โม พาราไดซ์) เดอะมอลล์ บางกะปิ</td>\n      <td>ถ้านึกถึงชาบูที่มีเนื้อเน้นๆ ในราคาไม่โหดจนเกิ...</td>\n      <td>3</td>\n    </tr>\n    <tr>\n      <th>4</th>\n      <td>Mo-Mo-Paradise (โม โม พาราไดซ์) เดอะมอลล์ บางกะปิ</td>\n      <td>เดินมาหน้าร้านแล้วได้กลิ่นชาบูหอมมาก ๆ  ประกอบ...</td>\n      <td>0</td>\n    </tr>\n    <tr>\n      <th>5</th>\n      <td>Mo-Mo-Paradise (โม โม พาราไดซ์) เดอะมอลล์ บางกะปิ</td>\n      <td>ร้านบุฟเฟ่ ชาบูแนวญี่ปุ่น สายเนื้อหมู เนื้อวัว...</td>\n      <td>4</td>\n    </tr>\n    <tr>\n      <th>6</th>\n      <td>Mo-Mo-Paradise (โม โม พาราไดซ์) เดอะมอลล์ บางกะปิ</td>\n      <td>Number 20 : โมโม – พาราไดส์ (สาขาเดอะมอลบางกะป...</td>\n      <td>1</td>\n    </tr>\n    <tr>\n      <th>7</th>\n      <td>Mo-Mo-Paradise (โม โม พาราไดซ์) เดอะมอลล์ บางกะปิ</td>\n      <td>ร้านชาบูเฟรนไชส์รสชาติดีมากคุ้มค่าเหมาะสมกับรา...</td>\n      <td>1</td>\n    </tr>\n    <tr>\n      <th>8</th>\n      <td>Shabushi (ชาบูชิ) เดอะมอลล์บางกะปิ ชั้น G</td>\n      <td>มา านที่ขาบูชิต้องมาตอนหิว ไม่งั้นจะไม่คุ้มนะค...</td>\n      <td>3</td>\n    </tr>\n    <tr>\n      <th>9</th>\n      <td>Shabushi (ชาบูชิ) เดอะมอลล์บางกะปิ ชั้น G</td>\n      <td>ใครชอบกุ้งทอดเทมปุระ แค่กุ้งเทมปุระก็คุ้มแล้ว ...</td>\n      <td>3</td>\n    </tr>\n    <tr>\n      <th>10</th>\n      <td>Shabushi (ชาบูชิ) เดอะมอลล์บางกะปิ ชั้น G</td>\n      <td>กลับมาอัพเดทราคาชาบูชิ ตอนนี้อยู่ที่ 399 บาท n...</td>\n      <td>3</td>\n    </tr>\n    <tr>\n      <th>11</th>\n      <td>Shabushi (ชาบูชิ) เดอะมอลล์บางกะปิ ชั้น G</td>\n      <td>ห่างหายไปนานสำหรับชาบูชิ ตั้งแต่ทางร้านได้ปรับ...</td>\n      <td>5</td>\n    </tr>\n    <tr>\n      <th>12</th>\n      <td>Shabushi (ชาบูชิ) เดอะมอลล์บางกะปิ ชั้น G</td>\n      <td>เมื่อหลายวันก่อนนัดหาข้าวทานกับเดอะแกงค์ และก็...</td>\n      <td>5</td>\n    </tr>\n    <tr>\n      <th>13</th>\n      <td>Shabushi (ชาบูชิ) เดอะมอลล์บางกะปิ ชั้น G</td>\n      <td>บอกตรงๆว่าหลายครั้งที่เลือกจะกินบุฟเฟต์จะต้องอ...</td>\n      <td>5</td>\n    </tr>\n    <tr>\n      <th>14</th>\n      <td>Shabushi (ชาบูชิ) เดอะมอลล์บางกะปิ ชั้น G</td>\n      <td>สวัสดีครับวันนี้จะขอมารีวิวร้านชาบูชิ บุฟเฟขวั...</td>\n      <td>5</td>\n    </tr>\n    <tr>\n      <th>15</th>\n      <td>Shabushi (ชาบูชิ) เดอะมอลล์บางกะปิ ชั้น G</td>\n      <td>ชาบูชิ สาขาเดอะมอลล์บางกะปิ ตั้งอยู่ประตูหน้าห...</td>\n      <td>2</td>\n    </tr>\n    <tr>\n      <th>16</th>\n      <td>ข้าน้อยขอชาบู</td>\n      <td>หลังจากที่เคยลองสาขายูเนี่ยนมอลล์ไป รอบนี้มาที...</td>\n      <td>3</td>\n    </tr>\n    <tr>\n      <th>17</th>\n      <td>ข้าน้อยขอชาบู</td>\n      <td>ร้านบุฟเฟ่ต์ที่มีโปรโมชั่นหัวละ199บาท ไม่รวมน้...</td>\n      <td>1</td>\n    </tr>\n    <tr>\n      <th>18</th>\n      <td>ข้าน้อยขอชาบู</td>\n      <td>เคยรู้จักร้านนี้จากที่ union mall ไม่เคยได้ลอง...</td>\n      <td>2</td>\n    </tr>\n    <tr>\n      <th>19</th>\n      <td>ข้าน้อยขอชาบู</td>\n      <td>อร่อยมากค่ะ คุ้มค่าสมราคา บุฟเฟ่หมูผักต่างๆ รว...</td>\n      <td>1</td>\n    </tr>\n    <tr>\n      <th>20</th>\n      <td>ข้าน้อยขอชาบู</td>\n      <td>ก็ตามที่เขียนเลยครับ ว่า ถ้าจะจ่ายในราคา 199 บ...</td>\n      <td>5</td>\n    </tr>\n  </tbody>\n</table>\n</div>"
     },
     "metadata": {},
     "execution_count": 15
    }
   ],
   "source": [
    "df[['Restaurant', 'Review', 'topics']]"
   ]
  }
 ],
 "metadata": {
  "colab": {
   "authorship_tag": "ABX9TyM4TPkTETrfkCITep4a+npi",
   "name": "Wongnai Review Analysis - Exercise.ipynb",
   "provenance": []
  },
  "kernelspec": {
   "name": "python3710jvsc74a57bd00238d5a7b1e34fe15d1565e2b0c665b26815cf8d2d83ee8f4f38fe51f22dbfbc",
   "display_name": "Python 3.7.10 64-bit (conda)"
  },
  "language_info": {
   "codemirror_mode": {
    "name": "ipython",
    "version": 3
   },
   "file_extension": ".py",
   "mimetype": "text/x-python",
   "name": "python",
   "nbconvert_exporter": "python",
   "pygments_lexer": "ipython3",
   "version": "3.7.10"
  },
  "metadata": {
   "interpreter": {
    "hash": "0238d5a7b1e34fe15d1565e2b0c665b26815cf8d2d83ee8f4f38fe51f22dbfbc"
   }
  }
 },
 "nbformat": 4,
 "nbformat_minor": 1
}